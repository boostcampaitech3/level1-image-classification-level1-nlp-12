{
  "cells": [
    {
      "cell_type": "markdown",
      "id": "f2d9a1de-c789-49a8-b485-946bfd5bf3ee",
      "metadata": {
        "tags": [],
        "id": "f2d9a1de-c789-49a8-b485-946bfd5bf3ee"
      },
      "source": [
        "# Library & directory 준비하기"
      ]
    },
    {
      "cell_type": "code",
      "execution_count": null,
      "id": "ed5a6a23-6288-43b9-a027-7fec1c66e717",
      "metadata": {
        "id": "ed5a6a23-6288-43b9-a027-7fec1c66e717"
      },
      "outputs": [],
      "source": [
        "# version check\n",
        "import os #ver.\n",
        "import sys #ver.\n",
        "import platform #ver.\n",
        "import warnings #ignore\n",
        "\n",
        "# EDA\n",
        "import pandas as pd #dataframe\n",
        "import numpy as np #linear algebra\n",
        "from PIL import Image #image\n",
        "import matplotlib as mpl #viz.\n",
        "import matplotlib.pyplot as plt #viz.\n",
        "\n",
        "# Module\n",
        "import torch\n",
        "import torch.nn as nn\n",
        "import torch.nn.functional as F\n",
        "from torch.utils.data import Dataset, DataLoader\n",
        "\n",
        "import torchvision\n",
        "from torchvision import transforms\n",
        "from torchvision.transforms import Resize, ToTensor, Normalize"
      ]
    },
    {
      "cell_type": "code",
      "execution_count": null,
      "id": "eed095bb-1ebf-473f-bda3-4186962c4f1a",
      "metadata": {
        "id": "eed095bb-1ebf-473f-bda3-4186962c4f1a",
        "outputId": "f6dc2c1e-4698-447d-b4e9-424cffe17a9c"
      },
      "outputs": [
        {
          "name": "stdout",
          "output_type": "stream",
          "text": [
            "Current OS: Linux\n",
            "CUDA: True\n",
            "Python Version: 3.8.5\n",
            "torch Version: 1.7.1\n",
            "torchvision Version: 0.8.2\n"
          ]
        }
      ],
      "source": [
        "# 중요하지 않은 에러 무시\n",
        "warnings.filterwarnings(action='ignore')\n",
        "\n",
        "# 유니코드 깨짐현상 해결\n",
        "mpl.rcParams['axes.unicode_minus'] = False\n",
        "\n",
        "# 현재 OS 및 라이브러리 버전 체크 체크\n",
        "current_os = platform.system()\n",
        "print(f\"Current OS: {current_os}\")\n",
        "print(f\"CUDA: {torch.cuda.is_available()}\")\n",
        "print(f\"Python Version: {platform.python_version()}\")\n",
        "print(f\"torch Version: {torch.__version__}\")\n",
        "print(f\"torchvision Version: {torchvision.__version__}\")"
      ]
    },
    {
      "cell_type": "markdown",
      "id": "a235b608-2aaf-4efb-ab99-f189c2138a2d",
      "metadata": {
        "id": "a235b608-2aaf-4efb-ab99-f189c2138a2d"
      },
      "source": [
        "## train data 준비하기"
      ]
    },
    {
      "cell_type": "code",
      "execution_count": null,
      "id": "c82feedf-ff9a-4e75-9b86-94b02b39b658",
      "metadata": {
        "id": "c82feedf-ff9a-4e75-9b86-94b02b39b658",
        "outputId": "4ab40b53-814c-4e7b-90a3-70e05cb35646"
      },
      "outputs": [
        {
          "name": "stdout",
          "output_type": "stream",
          "text": [
            "csv directory: input/data/train/train.csv\n",
            "images directory: input/data/train/images\n"
          ]
        }
      ],
      "source": [
        "train_dir = 'input/data/train'\n",
        "train_csv_dir = os.path.join(train_dir,'train.csv')\n",
        "train_images_dir = os.path.join(train_dir,'images')\n",
        "\n",
        "print(\"csv directory:\",train_csv_dir)\n",
        "print(\"images directory:\",train_images_dir)"
      ]
    },
    {
      "cell_type": "code",
      "execution_count": null,
      "id": "29b58aed-9204-43d8-a13a-825aa1cce3d6",
      "metadata": {
        "id": "29b58aed-9204-43d8-a13a-825aa1cce3d6",
        "outputId": "5f297276-fec3-4f7a-9e64-5f60cb783a14"
      },
      "outputs": [
        {
          "data": {
            "text/html": [
              "<div>\n",
              "<style scoped>\n",
              "    .dataframe tbody tr th:only-of-type {\n",
              "        vertical-align: middle;\n",
              "    }\n",
              "\n",
              "    .dataframe tbody tr th {\n",
              "        vertical-align: top;\n",
              "    }\n",
              "\n",
              "    .dataframe thead th {\n",
              "        text-align: right;\n",
              "    }\n",
              "</style>\n",
              "<table border=\"1\" class=\"dataframe\">\n",
              "  <thead>\n",
              "    <tr style=\"text-align: right;\">\n",
              "      <th></th>\n",
              "      <th>id</th>\n",
              "      <th>gender</th>\n",
              "      <th>race</th>\n",
              "      <th>age</th>\n",
              "      <th>path</th>\n",
              "    </tr>\n",
              "  </thead>\n",
              "  <tbody>\n",
              "    <tr>\n",
              "      <th>0</th>\n",
              "      <td>000001</td>\n",
              "      <td>female</td>\n",
              "      <td>Asian</td>\n",
              "      <td>45</td>\n",
              "      <td>000001_female_Asian_45</td>\n",
              "    </tr>\n",
              "    <tr>\n",
              "      <th>1</th>\n",
              "      <td>000002</td>\n",
              "      <td>female</td>\n",
              "      <td>Asian</td>\n",
              "      <td>52</td>\n",
              "      <td>000002_female_Asian_52</td>\n",
              "    </tr>\n",
              "    <tr>\n",
              "      <th>2</th>\n",
              "      <td>000004</td>\n",
              "      <td>male</td>\n",
              "      <td>Asian</td>\n",
              "      <td>54</td>\n",
              "      <td>000004_male_Asian_54</td>\n",
              "    </tr>\n",
              "    <tr>\n",
              "      <th>3</th>\n",
              "      <td>000005</td>\n",
              "      <td>female</td>\n",
              "      <td>Asian</td>\n",
              "      <td>58</td>\n",
              "      <td>000005_female_Asian_58</td>\n",
              "    </tr>\n",
              "    <tr>\n",
              "      <th>4</th>\n",
              "      <td>000006</td>\n",
              "      <td>female</td>\n",
              "      <td>Asian</td>\n",
              "      <td>59</td>\n",
              "      <td>000006_female_Asian_59</td>\n",
              "    </tr>\n",
              "  </tbody>\n",
              "</table>\n",
              "</div>"
            ],
            "text/plain": [
              "       id  gender   race  age                    path\n",
              "0  000001  female  Asian   45  000001_female_Asian_45\n",
              "1  000002  female  Asian   52  000002_female_Asian_52\n",
              "2  000004    male  Asian   54    000004_male_Asian_54\n",
              "3  000005  female  Asian   58  000005_female_Asian_58\n",
              "4  000006  female  Asian   59  000006_female_Asian_59"
            ]
          },
          "execution_count": 286,
          "metadata": {},
          "output_type": "execute_result"
        }
      ],
      "source": [
        "trainset = pd.read_csv(train_csv_dir)\n",
        "trainset.head()"
      ]
    },
    {
      "cell_type": "markdown",
      "id": "b40defbc-ae1d-4c43-9f5b-6bc164f63110",
      "metadata": {
        "id": "b40defbc-ae1d-4c43-9f5b-6bc164f63110"
      },
      "source": [
        "## file directory 설정\n",
        "디렉토리 다루는 것도 어렵다\n",
        "- input->...->path->1명당 7장의 사진(incorrect 1장, mask 5장, normal 1장)"
      ]
    },
    {
      "cell_type": "code",
      "execution_count": null,
      "id": "0945ddb0-471d-40dc-9628-3ac1e9e4c6c8",
      "metadata": {
        "id": "0945ddb0-471d-40dc-9628-3ac1e9e4c6c8",
        "outputId": "dee07f96-f99e-41f1-9126-71eb5932d9f5"
      },
      "outputs": [
        {
          "data": {
            "text/plain": [
              "['003891_female_Asian_31',\n",
              " '003069_female_Asian_19',\n",
              " '006477_female_Asian_18',\n",
              " '._001456_male_Asian_57',\n",
              " '003135_female_Asian_20']"
            ]
          },
          "execution_count": 287,
          "metadata": {},
          "output_type": "execute_result"
        }
      ],
      "source": [
        "os.listdir(train_images_dir)[:5]"
      ]
    },
    {
      "cell_type": "code",
      "execution_count": null,
      "id": "a38b7d02-b15b-42fc-8422-57c990d71e43",
      "metadata": {
        "id": "a38b7d02-b15b-42fc-8422-57c990d71e43",
        "outputId": "bb97ff5c-70a2-4495-f26c-51d10c40c36c"
      },
      "outputs": [
        {
          "name": "stdout",
          "output_type": "stream",
          "text": [
            "디렉토리 안 전체 이미지는 14개\n",
            "['._incorrect_mask.jpg', '._mask1.jpg', '._mask2.jpg', '._mask3.jpg', '._mask4.jpg', '._mask5.jpg', '._normal.jpg', 'incorrect_mask.jpg', 'mask1.jpg', 'mask2.jpg', 'mask3.jpg', 'mask4.jpg', 'mask5.jpg', 'normal.jpg']\n",
            "\n",
            "사용할 이미지는 7개\n",
            "['incorrect_mask.jpg', 'mask1.jpg', 'mask2.jpg', 'mask3.jpg', 'mask4.jpg', 'mask5.jpg', 'normal.jpg']\n",
            "\n",
            "이미지 directory 예시\n",
            " input/data/train/images/000001_female_Asian_45/incorrect_mask.jpg\n"
          ]
        }
      ],
      "source": [
        "# incorrect, mask, normal은 모든 관찰자에 대해 존재하는 이미지 파일\n",
        "\n",
        "images_type = sorted(os.listdir(os.path.join(train_images_dir,trainset['path'][0])))\n",
        "print(\"디렉토리 안 전체 이미지는 {}개\\n{}\\n\".format(len(images_type),images_type))\n",
        "\n",
        "images_type = [im_dir for im_dir in images_type if not im_dir.startswith('.')]\n",
        "print(\"사용할 이미지는 {}개\\n{}\\n\".format(len(images_type),images_type))\n",
        "\n",
        "print(\"이미지 directory 예시\\n\",os.path.join(train_images_dir,trainset['path'][0],images_type[0]))"
      ]
    },
    {
      "cell_type": "code",
      "execution_count": null,
      "id": "67193e51-119f-4831-b9d0-2f3b9a111f4e",
      "metadata": {
        "id": "67193e51-119f-4831-b9d0-2f3b9a111f4e"
      },
      "outputs": [],
      "source": [
        "# plt.figure(figsize=(12,8))\n",
        "\n",
        "# for n in range(7):\n",
        "#     im_dir = os.path.join(train_images_dir,trainset['path'][0],images_type[n])\n",
        "#     im = Image.open(im_dir)\n",
        "    \n",
        "#     plt.subplot(2,4,n+1)\n",
        "#     plt.imshow(im)\n",
        "#     plt.title(\"{}\".format(images_type[n]))\n",
        "\n",
        "# plt.tight_layout()\n",
        "# plt.show()"
      ]
    },
    {
      "cell_type": "markdown",
      "id": "c49bc106-8317-45cc-b201-516986838016",
      "metadata": {
        "id": "c49bc106-8317-45cc-b201-516986838016"
      },
      "source": [
        "- 1명의 타겟은 총 7장의 이미지를 가진다.\n",
        "    - 구도와 배경이 동일하지만 정확한 위치는 아주 미세하게 차이가 있다-->이 정도는 조정 가능할 듯\n",
        "    - 같은 mask 이미지여도 마스크의 **색상, 모양, 무늬가 모두 다르다**-->색상 차이는 활용하지 않고, 아예 색상 차이를 제거하는 것이 좋을 듯(ToGray 등)"
      ]
    },
    {
      "cell_type": "markdown",
      "id": "db4b4b90-f805-45f5-8fd5-38e8918817e4",
      "metadata": {
        "id": "db4b4b90-f805-45f5-8fd5-38e8918817e4"
      },
      "source": [
        "# input X 분석"
      ]
    },
    {
      "cell_type": "code",
      "execution_count": null,
      "id": "e1b8fcc3-3f0e-4f91-b132-1c7a49384b46",
      "metadata": {
        "id": "e1b8fcc3-3f0e-4f91-b132-1c7a49384b46"
      },
      "outputs": [],
      "source": [
        "im = Image.open(os.path.join(train_images_dir,trainset['path'][0],images_type[0]))\n",
        "\n",
        "# plt.figure(figsize=(4,4))\n",
        "# plt.imshow(im)\n",
        "# plt.show()"
      ]
    },
    {
      "cell_type": "markdown",
      "id": "eb82caed-e71c-4472-adfb-0632d9b71128",
      "metadata": {
        "id": "eb82caed-e71c-4472-adfb-0632d9b71128"
      },
      "source": [
        "## 이미지 사이즈"
      ]
    },
    {
      "cell_type": "code",
      "execution_count": null,
      "id": "62134275-9f6f-4a44-a943-684f72dd5f9a",
      "metadata": {
        "id": "62134275-9f6f-4a44-a943-684f72dd5f9a",
        "outputId": "1f33b31a-bccc-4f9f-f480-335dce0c01ba"
      },
      "outputs": [
        {
          "name": "stdout",
          "output_type": "stream",
          "text": [
            "(384, 512)\n"
          ]
        }
      ],
      "source": [
        "# 샘플 이미지 1장의 사이즈\n",
        "print(im.size)"
      ]
    },
    {
      "cell_type": "code",
      "execution_count": null,
      "id": "3dab4af7-1c87-4a37-bbd3-3313b9272ace",
      "metadata": {
        "id": "3dab4af7-1c87-4a37-bbd3-3313b9272ace",
        "outputId": "8a9d583d-4e53-4e6a-b506-2a6f10618205"
      },
      "outputs": [
        {
          "name": "stdout",
          "output_type": "stream",
          "text": [
            "(384, 512)\n",
            "(384, 512)\n",
            "(384, 512)\n",
            "(384, 512)\n",
            "(384, 512)\n",
            "(384, 512)\n",
            "(384, 512)\n"
          ]
        }
      ],
      "source": [
        "# 샘플 이미지 7장의 사이즈 확인\n",
        "im_dir = [os.path.join(train_images_dir,trainset['path'][0],image_name) for image_name in images_type]\n",
        "\n",
        "for dr in im_dir:\n",
        "    ims = Image.open(dr)\n",
        "    print(ims.size)"
      ]
    },
    {
      "cell_type": "markdown",
      "id": "b206def1-bff0-4fcf-9fb2-4c162021187f",
      "metadata": {
        "id": "b206def1-bff0-4fcf-9fb2-4c162021187f"
      },
      "source": [
        "이미지 크기는 (384,512)로 맞춰진 것 같다"
      ]
    },
    {
      "cell_type": "markdown",
      "id": "77a1d48b-5e02-4429-8334-6c54f9575785",
      "metadata": {
        "tags": [],
        "id": "77a1d48b-5e02-4429-8334-6c54f9575785"
      },
      "source": [
        "## RGB 채널별 통계 값\n",
        "> R,G,B를 분리했을 때의 통계값에 유의미한 차이가 있을까?"
      ]
    },
    {
      "cell_type": "code",
      "execution_count": null,
      "id": "6c761317-76a9-475b-8b67-cb986bb7f753",
      "metadata": {
        "id": "6c761317-76a9-475b-8b67-cb986bb7f753",
        "outputId": "e5a4d903-212d-492b-b8b5-dc0ab44411b2"
      },
      "outputs": [
        {
          "data": {
            "text/plain": [
              "(191, 190, 185)"
            ]
          },
          "execution_count": 291,
          "metadata": {},
          "output_type": "execute_result"
        }
      ],
      "source": [
        "# PIL로 pixel rgb 구하기\n",
        "# https://stackoverflow.com/questions/11064786/get-pixels-rgb-using-pil\n",
        "\n",
        "im_rgb = im.convert('RGB')\n",
        "im_rgb.getpixel((1, 1))"
      ]
    },
    {
      "cell_type": "code",
      "execution_count": null,
      "id": "4cce7236-cf5d-4adc-987d-e3eb6cbe4c4e",
      "metadata": {
        "id": "4cce7236-cf5d-4adc-987d-e3eb6cbe4c4e",
        "outputId": "f1e41ac1-2eb9-4dd8-ce47-08ccc31527f9"
      },
      "outputs": [
        {
          "name": "stdout",
          "output_type": "stream",
          "text": [
            "(512, 384, 3)\n",
            "(512, 384) (512, 384) (512, 384)\n"
          ]
        }
      ],
      "source": [
        "# numpy array로 변환 후 r,g,b 분리하기\n",
        "\n",
        "im_np = np.array(im_rgb)\n",
        "print(im_np.shape)\n",
        "\n",
        "# Split\n",
        "red = im_np[:, :, 0]\n",
        "green = im_np[:, :, 1]\n",
        "blue = im_np[:, :, 2]\n",
        "\n",
        "print(red.shape, green.shape, blue.shape)"
      ]
    },
    {
      "cell_type": "code",
      "execution_count": null,
      "id": "be292ad8-864a-4823-b6ed-1f04336aefce",
      "metadata": {
        "id": "be292ad8-864a-4823-b6ed-1f04336aefce",
        "outputId": "5df45b1c-94bb-4edf-890b-a36c9db05504"
      },
      "outputs": [
        {
          "data": {
            "image/png": "[encoded data removed]",
            "text/plain": [
              "<Figure size 864x576 with 3 Axes>"
            ]
          },
          "metadata": {
            "needs_background": "light"
          },
          "output_type": "display_data"
        }
      ],
      "source": [
        "# # RGB 분리해서 plot그리기\n",
        "# # https://stackoverflow.com/questions/39885178/how-can-i-see-the-rgb-channels-of-a-given-image-with-python\n",
        "\n",
        "# # RGB 분리해서 이미지로 그리기\n",
        "# fig, axs = plt.subplots(2,2)\n",
        "# fig.set_size_inches(10,10)\n",
        "\n",
        "# cax_00 = axs[0,0].imshow(im_np)\n",
        "# # axs[0,0].xaxis.set_major_formatter(plt.NullFormatter())  # kill xlabels\n",
        "# # axs[0,0].yaxis.set_major_formatter(plt.NullFormatter())  # kill ylabels\n",
        "\n",
        "# cax_01 = axs[0,1].imshow(red, cmap='Reds')\n",
        "# fig.colorbar(cax_01, ax=axs[0,1])\n",
        "# # axs[0,1].xaxis.set_major_formatter(plt.NullFormatter())\n",
        "# # axs[0,1].yaxis.set_major_formatter(plt.NullFormatter())\n",
        "\n",
        "# cax_10 = axs[1,0].imshow(green, cmap='Greens')\n",
        "# fig.colorbar(cax_10, ax=axs[1,0])\n",
        "# # axs[1,0].xaxis.set_major_formatter(plt.NullFormatter())\n",
        "# # axs[1,0].yaxis.set_major_formatter(plt.NullFormatter())\n",
        "\n",
        "# cax_11 = axs[1,1].imshow(blue, cmap='Blues')\n",
        "# fig.colorbar(cax_11, ax=axs[1,1])\n",
        "# # axs[1,1].xaxis.set_major_formatter(plt.NullFormatter())\n",
        "# # axs[1,1].yaxis.set_major_formatter(plt.NullFormatter())\n",
        "# plt.show()\n",
        "\n",
        "# RGB 히스토그램 그리기\n",
        "fig, axs = plt.subplots(3, sharex=True, sharey=True)\n",
        "fig.set_size_inches(12,8)\n",
        "\n",
        "axs[0].hist(red.ravel(), bins=10, color='r')\n",
        "axs[0].set_title('Red')\n",
        "axs[1].hist(green.ravel(), bins=10, color='g')\n",
        "axs[1].set_title('Green')\n",
        "axs[2].hist(blue.ravel(), bins=10, color='b')\n",
        "axs[2].set_title('Blue')\n",
        "\n",
        "plt.show()"
      ]
    },
    {
      "cell_type": "markdown",
      "id": "ca51bc47-97d8-4756-be0f-b2dac38ebe45",
      "metadata": {
        "id": "ca51bc47-97d8-4756-be0f-b2dac38ebe45"
      },
      "source": [
        "히스토그램을 보면 rgb 분포에 큰 차이는 없어 보인다."
      ]
    },
    {
      "cell_type": "code",
      "execution_count": null,
      "id": "1da8b994-58fc-49e9-9614-6acbfc496683",
      "metadata": {
        "id": "1da8b994-58fc-49e9-9614-6acbfc496683",
        "outputId": "2124bace-3b85-47ce-ef7f-92153fe12cb3"
      },
      "outputs": [
        {
          "data": {
            "text/html": [
              "<div>\n",
              "<style scoped>\n",
              "    .dataframe tbody tr th:only-of-type {\n",
              "        vertical-align: middle;\n",
              "    }\n",
              "\n",
              "    .dataframe tbody tr th {\n",
              "        vertical-align: top;\n",
              "    }\n",
              "\n",
              "    .dataframe thead th {\n",
              "        text-align: right;\n",
              "    }\n",
              "</style>\n",
              "<table border=\"1\" class=\"dataframe\">\n",
              "  <thead>\n",
              "    <tr style=\"text-align: right;\">\n",
              "      <th></th>\n",
              "      <th>0</th>\n",
              "      <th>1</th>\n",
              "      <th>2</th>\n",
              "      <th>3</th>\n",
              "      <th>4</th>\n",
              "      <th>5</th>\n",
              "      <th>6</th>\n",
              "      <th>7</th>\n",
              "      <th>8</th>\n",
              "      <th>9</th>\n",
              "      <th>...</th>\n",
              "      <th>374</th>\n",
              "      <th>375</th>\n",
              "      <th>376</th>\n",
              "      <th>377</th>\n",
              "      <th>378</th>\n",
              "      <th>379</th>\n",
              "      <th>380</th>\n",
              "      <th>381</th>\n",
              "      <th>382</th>\n",
              "      <th>383</th>\n",
              "    </tr>\n",
              "  </thead>\n",
              "  <tbody>\n",
              "    <tr>\n",
              "      <th>count</th>\n",
              "      <td>512.000000</td>\n",
              "      <td>512.000000</td>\n",
              "      <td>512.000000</td>\n",
              "      <td>512.000000</td>\n",
              "      <td>512.000000</td>\n",
              "      <td>512.000000</td>\n",
              "      <td>512.000000</td>\n",
              "      <td>512.000000</td>\n",
              "      <td>512.000000</td>\n",
              "      <td>512.000000</td>\n",
              "      <td>...</td>\n",
              "      <td>512.000000</td>\n",
              "      <td>512.000000</td>\n",
              "      <td>512.000000</td>\n",
              "      <td>512.000000</td>\n",
              "      <td>512.000000</td>\n",
              "      <td>512.000000</td>\n",
              "      <td>512.000000</td>\n",
              "      <td>512.000000</td>\n",
              "      <td>512.000000</td>\n",
              "      <td>512.000000</td>\n",
              "    </tr>\n",
              "    <tr>\n",
              "      <th>mean</th>\n",
              "      <td>163.673828</td>\n",
              "      <td>163.757812</td>\n",
              "      <td>164.365234</td>\n",
              "      <td>164.787109</td>\n",
              "      <td>164.343750</td>\n",
              "      <td>163.746094</td>\n",
              "      <td>163.496094</td>\n",
              "      <td>163.480469</td>\n",
              "      <td>163.496094</td>\n",
              "      <td>163.511719</td>\n",
              "      <td>...</td>\n",
              "      <td>185.755859</td>\n",
              "      <td>186.111328</td>\n",
              "      <td>186.593750</td>\n",
              "      <td>186.703125</td>\n",
              "      <td>187.087891</td>\n",
              "      <td>187.027344</td>\n",
              "      <td>186.789062</td>\n",
              "      <td>187.501953</td>\n",
              "      <td>188.935547</td>\n",
              "      <td>190.488281</td>\n",
              "    </tr>\n",
              "    <tr>\n",
              "      <th>std</th>\n",
              "      <td>34.973530</td>\n",
              "      <td>34.040898</td>\n",
              "      <td>32.433786</td>\n",
              "      <td>31.801728</td>\n",
              "      <td>33.306661</td>\n",
              "      <td>35.619400</td>\n",
              "      <td>36.305078</td>\n",
              "      <td>35.508545</td>\n",
              "      <td>34.169887</td>\n",
              "      <td>33.479962</td>\n",
              "      <td>...</td>\n",
              "      <td>32.029966</td>\n",
              "      <td>30.573406</td>\n",
              "      <td>28.146719</td>\n",
              "      <td>27.358277</td>\n",
              "      <td>26.310395</td>\n",
              "      <td>26.836448</td>\n",
              "      <td>28.667922</td>\n",
              "      <td>27.953274</td>\n",
              "      <td>23.863230</td>\n",
              "      <td>21.124083</td>\n",
              "    </tr>\n",
              "    <tr>\n",
              "      <th>min</th>\n",
              "      <td>0.000000</td>\n",
              "      <td>34.000000</td>\n",
              "      <td>50.000000</td>\n",
              "      <td>47.000000</td>\n",
              "      <td>41.000000</td>\n",
              "      <td>7.000000</td>\n",
              "      <td>0.000000</td>\n",
              "      <td>13.000000</td>\n",
              "      <td>55.000000</td>\n",
              "      <td>56.000000</td>\n",
              "      <td>...</td>\n",
              "      <td>6.000000</td>\n",
              "      <td>17.000000</td>\n",
              "      <td>45.000000</td>\n",
              "      <td>70.000000</td>\n",
              "      <td>69.000000</td>\n",
              "      <td>45.000000</td>\n",
              "      <td>12.000000</td>\n",
              "      <td>25.000000</td>\n",
              "      <td>37.000000</td>\n",
              "      <td>33.000000</td>\n",
              "    </tr>\n",
              "    <tr>\n",
              "      <th>25%</th>\n",
              "      <td>155.000000</td>\n",
              "      <td>155.000000</td>\n",
              "      <td>155.000000</td>\n",
              "      <td>156.000000</td>\n",
              "      <td>156.000000</td>\n",
              "      <td>155.000000</td>\n",
              "      <td>155.000000</td>\n",
              "      <td>154.750000</td>\n",
              "      <td>154.000000</td>\n",
              "      <td>154.000000</td>\n",
              "      <td>...</td>\n",
              "      <td>194.000000</td>\n",
              "      <td>194.000000</td>\n",
              "      <td>195.000000</td>\n",
              "      <td>195.000000</td>\n",
              "      <td>194.000000</td>\n",
              "      <td>194.750000</td>\n",
              "      <td>194.000000</td>\n",
              "      <td>194.000000</td>\n",
              "      <td>195.000000</td>\n",
              "      <td>195.000000</td>\n",
              "    </tr>\n",
              "    <tr>\n",
              "      <th>50%</th>\n",
              "      <td>178.000000</td>\n",
              "      <td>177.000000</td>\n",
              "      <td>177.000000</td>\n",
              "      <td>177.000000</td>\n",
              "      <td>177.000000</td>\n",
              "      <td>177.000000</td>\n",
              "      <td>177.500000</td>\n",
              "      <td>177.000000</td>\n",
              "      <td>178.000000</td>\n",
              "      <td>178.000000</td>\n",
              "      <td>...</td>\n",
              "      <td>196.000000</td>\n",
              "      <td>196.000000</td>\n",
              "      <td>196.000000</td>\n",
              "      <td>196.000000</td>\n",
              "      <td>196.000000</td>\n",
              "      <td>196.000000</td>\n",
              "      <td>196.000000</td>\n",
              "      <td>196.000000</td>\n",
              "      <td>196.000000</td>\n",
              "      <td>196.000000</td>\n",
              "    </tr>\n",
              "    <tr>\n",
              "      <th>75%</th>\n",
              "      <td>184.000000</td>\n",
              "      <td>184.000000</td>\n",
              "      <td>184.000000</td>\n",
              "      <td>184.000000</td>\n",
              "      <td>185.000000</td>\n",
              "      <td>185.000000</td>\n",
              "      <td>185.000000</td>\n",
              "      <td>185.000000</td>\n",
              "      <td>185.250000</td>\n",
              "      <td>185.000000</td>\n",
              "      <td>...</td>\n",
              "      <td>197.000000</td>\n",
              "      <td>197.000000</td>\n",
              "      <td>198.000000</td>\n",
              "      <td>197.250000</td>\n",
              "      <td>197.250000</td>\n",
              "      <td>197.000000</td>\n",
              "      <td>197.000000</td>\n",
              "      <td>198.000000</td>\n",
              "      <td>198.000000</td>\n",
              "      <td>198.000000</td>\n",
              "    </tr>\n",
              "    <tr>\n",
              "      <th>max</th>\n",
              "      <td>200.000000</td>\n",
              "      <td>199.000000</td>\n",
              "      <td>194.000000</td>\n",
              "      <td>193.000000</td>\n",
              "      <td>193.000000</td>\n",
              "      <td>198.000000</td>\n",
              "      <td>205.000000</td>\n",
              "      <td>209.000000</td>\n",
              "      <td>214.000000</td>\n",
              "      <td>211.000000</td>\n",
              "      <td>...</td>\n",
              "      <td>203.000000</td>\n",
              "      <td>206.000000</td>\n",
              "      <td>212.000000</td>\n",
              "      <td>213.000000</td>\n",
              "      <td>217.000000</td>\n",
              "      <td>213.000000</td>\n",
              "      <td>208.000000</td>\n",
              "      <td>207.000000</td>\n",
              "      <td>209.000000</td>\n",
              "      <td>216.000000</td>\n",
              "    </tr>\n",
              "  </tbody>\n",
              "</table>\n",
              "<p>8 rows × 384 columns</p>\n",
              "</div>"
            ],
            "text/plain": [
              "              0           1           2           3           4           5    \\\n",
              "count  512.000000  512.000000  512.000000  512.000000  512.000000  512.000000   \n",
              "mean   163.673828  163.757812  164.365234  164.787109  164.343750  163.746094   \n",
              "std     34.973530   34.040898   32.433786   31.801728   33.306661   35.619400   \n",
              "min      0.000000   34.000000   50.000000   47.000000   41.000000    7.000000   \n",
              "25%    155.000000  155.000000  155.000000  156.000000  156.000000  155.000000   \n",
              "50%    178.000000  177.000000  177.000000  177.000000  177.000000  177.000000   \n",
              "75%    184.000000  184.000000  184.000000  184.000000  185.000000  185.000000   \n",
              "max    200.000000  199.000000  194.000000  193.000000  193.000000  198.000000   \n",
              "\n",
              "              6           7           8           9    ...         374  \\\n",
              "count  512.000000  512.000000  512.000000  512.000000  ...  512.000000   \n",
              "mean   163.496094  163.480469  163.496094  163.511719  ...  185.755859   \n",
              "std     36.305078   35.508545   34.169887   33.479962  ...   32.029966   \n",
              "min      0.000000   13.000000   55.000000   56.000000  ...    6.000000   \n",
              "25%    155.000000  154.750000  154.000000  154.000000  ...  194.000000   \n",
              "50%    177.500000  177.000000  178.000000  178.000000  ...  196.000000   \n",
              "75%    185.000000  185.000000  185.250000  185.000000  ...  197.000000   \n",
              "max    205.000000  209.000000  214.000000  211.000000  ...  203.000000   \n",
              "\n",
              "              375         376         377         378         379         380  \\\n",
              "count  512.000000  512.000000  512.000000  512.000000  512.000000  512.000000   \n",
              "mean   186.111328  186.593750  186.703125  187.087891  187.027344  186.789062   \n",
              "std     30.573406   28.146719   27.358277   26.310395   26.836448   28.667922   \n",
              "min     17.000000   45.000000   70.000000   69.000000   45.000000   12.000000   \n",
              "25%    194.000000  195.000000  195.000000  194.000000  194.750000  194.000000   \n",
              "50%    196.000000  196.000000  196.000000  196.000000  196.000000  196.000000   \n",
              "75%    197.000000  198.000000  197.250000  197.250000  197.000000  197.000000   \n",
              "max    206.000000  212.000000  213.000000  217.000000  213.000000  208.000000   \n",
              "\n",
              "              381         382         383  \n",
              "count  512.000000  512.000000  512.000000  \n",
              "mean   187.501953  188.935547  190.488281  \n",
              "std     27.953274   23.863230   21.124083  \n",
              "min     25.000000   37.000000   33.000000  \n",
              "25%    194.000000  195.000000  195.000000  \n",
              "50%    196.000000  196.000000  196.000000  \n",
              "75%    198.000000  198.000000  198.000000  \n",
              "max    207.000000  209.000000  216.000000  \n",
              "\n",
              "[8 rows x 384 columns]"
            ]
          },
          "execution_count": 294,
          "metadata": {},
          "output_type": "execute_result"
        }
      ],
      "source": [
        "pd.DataFrame(red).describe()"
      ]
    },
    {
      "cell_type": "code",
      "execution_count": null,
      "id": "ab853de8-7e68-48cf-bab5-82b691a2caec",
      "metadata": {
        "id": "ab853de8-7e68-48cf-bab5-82b691a2caec",
        "outputId": "15eaedee-515a-456b-e0c4-9bf5f891907e"
      },
      "outputs": [
        {
          "name": "stdout",
          "output_type": "stream",
          "text": [
            "0 231 153.9891153971354 48.70481882279441\n",
            "0 217 146.30484008789062 49.60605363892835\n",
            "0 236 136.09719848632812 54.11230500940445\n"
          ]
        }
      ],
      "source": [
        "print(red.min(), red.max(), red.mean(), red.std())\n",
        "print(green.min(), green.max(), green.mean(), green.std())\n",
        "print(blue.min(), blue.max(), blue.mean(), blue.std())"
      ]
    },
    {
      "cell_type": "code",
      "execution_count": null,
      "id": "9e59cb1e-6056-4a46-b10f-dd691a267106",
      "metadata": {
        "id": "9e59cb1e-6056-4a46-b10f-dd691a267106",
        "outputId": "b16ddaed-2fdb-43d7-e477-71f905c3ab69"
      },
      "outputs": [
        {
          "data": {
            "image/png": "[encoded data removed]",
            "text/plain": [
              "<Figure size 432x432 with 1 Axes>"
            ]
          },
          "metadata": {
            "needs_background": "light"
          },
          "output_type": "display_data"
        }
      ],
      "source": [
        "# sample 이미지 1장의 r,g,b의 boxplot 그려서 확인하기\n",
        "\n",
        "plt.figure(figsize=(6,6))\n",
        "\n",
        "plt.boxplot([red.flatten(), green.flatten(), blue.flatten()])\n",
        "plt.xticks([1,2,3],labels=['red','green','blue'])\n",
        "\n",
        "plt.show()"
      ]
    },
    {
      "cell_type": "markdown",
      "id": "9a9411ab-1e1c-4345-86e1-40063b381271",
      "metadata": {
        "id": "9a9411ab-1e1c-4345-86e1-40063b381271"
      },
      "source": [
        "- blue의 boundary가 가장 길지만 통계적 유의미한 차이를 찾기는 힘들다고 판단"
      ]
    },
    {
      "cell_type": "markdown",
      "id": "f5f5eabf-931e-46c2-b80a-2785a7a1d623",
      "metadata": {
        "id": "f5f5eabf-931e-46c2-b80a-2785a7a1d623"
      },
      "source": [
        "### mask 카테고리에 따라 rgb 분포 비교하기"
      ]
    },
    {
      "cell_type": "code",
      "execution_count": null,
      "id": "6b1c09c0-20d0-4169-807b-e8423b5d42a3",
      "metadata": {
        "id": "6b1c09c0-20d0-4169-807b-e8423b5d42a3",
        "outputId": "4b4b3d87-2459-4029-cccd-4ddeaf62da4e"
      },
      "outputs": [
        {
          "name": "stdout",
          "output_type": "stream",
          "text": [
            "(512, 384, 3) (512, 384, 3)\n"
          ]
        },
        {
          "data": {
            "image/png": "[encoded data removed]",
            "text/plain": [
              "<Figure size 1296x432 with 3 Axes>"
            ]
          },
          "metadata": {
            "needs_background": "light"
          },
          "output_type": "display_data"
        }
      ],
      "source": [
        "# target 1명의 이미지 7장-->3가지 category(incorrect,mask,normal)로 나누어 rgb 분포 비교하기\n",
        "\n",
        "sample_images_path = [os.path.join(train_images_dir,trainset['path'][0],file) for file in images_type]\n",
        "#print(sample_images_path)\n",
        "sample_images = [np.array(Image.open(sample_image_dir)) for sample_image_dir in sample_images_path]\n",
        "#sample_images\n",
        "\n",
        "#images_type-->(0)incorrect (1:-1)mask (-1)normal\n",
        "im_incorrect = sample_images[0]\n",
        "im_mask = np.mean(sample_images[1:-1],axis=0)\n",
        "im_normal = sample_images[-1]\n",
        "print(im_incorrect.shape, im_mask.shape)\n",
        "\n",
        "red_incorrect = im_incorrect[:,:,0].flatten()\n",
        "red_mask = im_mask[:,:,0].flatten()\n",
        "red_normal = im_normal[:,:,0].flatten()\n",
        "\n",
        "green_incorrect = im_incorrect[:,:,1].flatten()\n",
        "green_mask = im_mask[:,:,1].flatten()\n",
        "green_normal = im_normal[:,:,1].flatten()\n",
        "\n",
        "blue_incorrect = im_incorrect[:,:,2].flatten()\n",
        "blue_mask = im_mask[:,:,2].flatten()\n",
        "blue_normal = im_normal[:,:,2].flatten()\n",
        "\n",
        "plt.figure(figsize=(18,6))\n",
        "\n",
        "plt.subplot(1,3,1)\n",
        "plt.boxplot([red_incorrect, red_mask, red_normal])\n",
        "plt.xticks([1,2,3],labels=['incorrect','mask','normal'])\n",
        "plt.title('red boxplots')\n",
        "plt.ylim(-10,260)\n",
        "\n",
        "plt.subplot(1,3,2)\n",
        "plt.boxplot([green_incorrect, green_mask, green_normal])\n",
        "plt.xticks([1,2,3],labels=['incorrect','mask','normal'])\n",
        "plt.title('green boxplots')\n",
        "plt.ylim(-10,260)\n",
        "\n",
        "plt.subplot(1,3,3)\n",
        "plt.boxplot([blue_incorrect, blue_mask, blue_normal])\n",
        "plt.xticks([1,2,3],labels=['incorrect','mask','normal'])\n",
        "plt.title('blue boxplots')\n",
        "plt.ylim(-10,260)\n",
        "\n",
        "plt.show()"
      ]
    },
    {
      "cell_type": "markdown",
      "id": "7973ca0c-4d30-4140-a290-27b246ee57bd",
      "metadata": {
        "id": "7973ca0c-4d30-4140-a290-27b246ee57bd"
      },
      "source": [
        "- 전체적인 분포에 차이가 있는지는 boxplot만 봐서 결론짓기 어렵다.\n",
        "    - red, green, blue에 따른 차이는 크지 않다\n",
        "    - incorrect와 mask, normal에 따른 차이는 어느 정도 존재하는 것으로 보인다. 하지만 통계적 유의성을 결론 짓기에는 부족하다.\n",
        "    - mask의 boundary에 차이가 있어 보이지만, 이는 5개 mask 사진의 mean값의 분포이기 때문에 나타나는 차이일 수 있다."
      ]
    },
    {
      "cell_type": "markdown",
      "id": "b26c5bc3-bea5-46a5-9077-ab210b0eb70e",
      "metadata": {
        "id": "b26c5bc3-bea5-46a5-9077-ab210b0eb70e"
      },
      "source": [
        "rgb 분포에 대해 통계적으로 유의미한 결과를 기대하기는 어려워 보인다.(-->더 분석할지 말지)\n",
        "- 하지만 1명의 target도 다양한 색상과 형태의 마스크를 쓰고 있기 때문에 **<u>`torchvision.transforms`으로 RGB 관련 scaling을 진행해볼 수 있다</u>**\n",
        "- 각기 다른 target의 이미지는 밝기가 제각각.(어떤 건 밝고 어떤 건 어둡고)--><u>**밝기 generalization 작업도 필요할 것으로 보인다.**</u>\n"
      ]
    },
    {
      "cell_type": "markdown",
      "id": "d0bde8ec-b543-4ab1-a38c-fa588e80ddf6",
      "metadata": {
        "id": "d0bde8ec-b543-4ab1-a38c-fa588e80ddf6"
      },
      "source": [
        "# target y 분석"
      ]
    },
    {
      "cell_type": "markdown",
      "id": "46bcd7f3-5350-46b7-9687-c2a3c3129c41",
      "metadata": {
        "tags": [],
        "id": "46bcd7f3-5350-46b7-9687-c2a3c3129c41"
      },
      "source": [
        "## features"
      ]
    },
    {
      "cell_type": "code",
      "execution_count": null,
      "id": "054529bf-3e39-4788-b116-13bd00fc127e",
      "metadata": {
        "id": "054529bf-3e39-4788-b116-13bd00fc127e",
        "outputId": "562f9f7b-ca1c-4af9-cd3d-ddaae04f1864"
      },
      "outputs": [
        {
          "name": "stdout",
          "output_type": "stream",
          "text": [
            "<class 'pandas.core.frame.DataFrame'>\n",
            "RangeIndex: 2700 entries, 0 to 2699\n",
            "Data columns (total 6 columns):\n",
            " #   Column     Non-Null Count  Dtype \n",
            "---  ------     --------------  ----- \n",
            " 0   id         2700 non-null   object\n",
            " 1   gender     2700 non-null   object\n",
            " 2   race       2700 non-null   object\n",
            " 3   age        2700 non-null   int64 \n",
            " 4   path       2700 non-null   object\n",
            " 5   age_group  2700 non-null   object\n",
            "dtypes: int64(1), object(5)\n",
            "memory usage: 126.7+ KB\n"
          ]
        }
      ],
      "source": [
        "trainset.info()"
      ]
    },
    {
      "cell_type": "code",
      "execution_count": null,
      "id": "595f329e-b865-4ad7-b1cc-e3592a733555",
      "metadata": {
        "id": "595f329e-b865-4ad7-b1cc-e3592a733555",
        "outputId": "197c76e7-8c7b-46bd-e861-3f317d3e248b"
      },
      "outputs": [
        {
          "data": {
            "text/html": [
              "<div>\n",
              "<style scoped>\n",
              "    .dataframe tbody tr th:only-of-type {\n",
              "        vertical-align: middle;\n",
              "    }\n",
              "\n",
              "    .dataframe tbody tr th {\n",
              "        vertical-align: top;\n",
              "    }\n",
              "\n",
              "    .dataframe thead th {\n",
              "        text-align: right;\n",
              "    }\n",
              "</style>\n",
              "<table border=\"1\" class=\"dataframe\">\n",
              "  <thead>\n",
              "    <tr style=\"text-align: right;\">\n",
              "      <th></th>\n",
              "      <th>id</th>\n",
              "      <th>gender</th>\n",
              "      <th>race</th>\n",
              "      <th>age</th>\n",
              "      <th>path</th>\n",
              "      <th>age_group</th>\n",
              "    </tr>\n",
              "  </thead>\n",
              "  <tbody>\n",
              "    <tr>\n",
              "      <th>count</th>\n",
              "      <td>2700</td>\n",
              "      <td>2700</td>\n",
              "      <td>2700</td>\n",
              "      <td>2700.000000</td>\n",
              "      <td>2700</td>\n",
              "      <td>2700</td>\n",
              "    </tr>\n",
              "    <tr>\n",
              "      <th>unique</th>\n",
              "      <td>2699</td>\n",
              "      <td>2</td>\n",
              "      <td>1</td>\n",
              "      <td>NaN</td>\n",
              "      <td>2700</td>\n",
              "      <td>3</td>\n",
              "    </tr>\n",
              "    <tr>\n",
              "      <th>top</th>\n",
              "      <td>003397</td>\n",
              "      <td>female</td>\n",
              "      <td>Asian</td>\n",
              "      <td>NaN</td>\n",
              "      <td>005002_female_Asian_28</td>\n",
              "      <td>&lt;30</td>\n",
              "    </tr>\n",
              "    <tr>\n",
              "      <th>freq</th>\n",
              "      <td>2</td>\n",
              "      <td>1658</td>\n",
              "      <td>2700</td>\n",
              "      <td>NaN</td>\n",
              "      <td>1</td>\n",
              "      <td>1281</td>\n",
              "    </tr>\n",
              "    <tr>\n",
              "      <th>mean</th>\n",
              "      <td>NaN</td>\n",
              "      <td>NaN</td>\n",
              "      <td>NaN</td>\n",
              "      <td>37.708148</td>\n",
              "      <td>NaN</td>\n",
              "      <td>NaN</td>\n",
              "    </tr>\n",
              "    <tr>\n",
              "      <th>std</th>\n",
              "      <td>NaN</td>\n",
              "      <td>NaN</td>\n",
              "      <td>NaN</td>\n",
              "      <td>16.985904</td>\n",
              "      <td>NaN</td>\n",
              "      <td>NaN</td>\n",
              "    </tr>\n",
              "    <tr>\n",
              "      <th>min</th>\n",
              "      <td>NaN</td>\n",
              "      <td>NaN</td>\n",
              "      <td>NaN</td>\n",
              "      <td>18.000000</td>\n",
              "      <td>NaN</td>\n",
              "      <td>NaN</td>\n",
              "    </tr>\n",
              "    <tr>\n",
              "      <th>25%</th>\n",
              "      <td>NaN</td>\n",
              "      <td>NaN</td>\n",
              "      <td>NaN</td>\n",
              "      <td>20.000000</td>\n",
              "      <td>NaN</td>\n",
              "      <td>NaN</td>\n",
              "    </tr>\n",
              "    <tr>\n",
              "      <th>50%</th>\n",
              "      <td>NaN</td>\n",
              "      <td>NaN</td>\n",
              "      <td>NaN</td>\n",
              "      <td>36.000000</td>\n",
              "      <td>NaN</td>\n",
              "      <td>NaN</td>\n",
              "    </tr>\n",
              "    <tr>\n",
              "      <th>75%</th>\n",
              "      <td>NaN</td>\n",
              "      <td>NaN</td>\n",
              "      <td>NaN</td>\n",
              "      <td>55.000000</td>\n",
              "      <td>NaN</td>\n",
              "      <td>NaN</td>\n",
              "    </tr>\n",
              "    <tr>\n",
              "      <th>max</th>\n",
              "      <td>NaN</td>\n",
              "      <td>NaN</td>\n",
              "      <td>NaN</td>\n",
              "      <td>60.000000</td>\n",
              "      <td>NaN</td>\n",
              "      <td>NaN</td>\n",
              "    </tr>\n",
              "  </tbody>\n",
              "</table>\n",
              "</div>"
            ],
            "text/plain": [
              "            id  gender   race          age                    path age_group\n",
              "count     2700    2700   2700  2700.000000                    2700      2700\n",
              "unique    2699       2      1          NaN                    2700         3\n",
              "top     003397  female  Asian          NaN  005002_female_Asian_28       <30\n",
              "freq         2    1658   2700          NaN                       1      1281\n",
              "mean       NaN     NaN    NaN    37.708148                     NaN       NaN\n",
              "std        NaN     NaN    NaN    16.985904                     NaN       NaN\n",
              "min        NaN     NaN    NaN    18.000000                     NaN       NaN\n",
              "25%        NaN     NaN    NaN    20.000000                     NaN       NaN\n",
              "50%        NaN     NaN    NaN    36.000000                     NaN       NaN\n",
              "75%        NaN     NaN    NaN    55.000000                     NaN       NaN\n",
              "max        NaN     NaN    NaN    60.000000                     NaN       NaN"
            ]
          },
          "execution_count": 187,
          "metadata": {},
          "output_type": "execute_result"
        }
      ],
      "source": [
        "trainset.describe(include='all')"
      ]
    },
    {
      "cell_type": "code",
      "execution_count": null,
      "id": "0877e770-02ad-4555-a42a-11263e9232ff",
      "metadata": {
        "id": "0877e770-02ad-4555-a42a-11263e9232ff",
        "outputId": "0f68e768-1905-4540-b32e-6deaef7db6e0"
      },
      "outputs": [
        {
          "data": {
            "image/png": "[encoded data removed]",
            "text/plain": [
              "<Figure size 576x288 with 2 Axes>"
            ]
          },
          "metadata": {
            "needs_background": "light"
          },
          "output_type": "display_data"
        }
      ],
      "source": [
        "gender = trainset['gender'].value_counts()\n",
        "\n",
        "plt.figure(figsize=(8,4))\n",
        "\n",
        "plt.subplot(1,2,1)\n",
        "plt.bar(gender.index,gender,color=['y','g'])\n",
        "plt.text(0,gender['female']/2,s=str(gender['female']),horizontalalignment='center')\n",
        "plt.text(1,gender['male']/2,s=str(gender['male']),horizontalalignment='center')\n",
        "\n",
        "plt.subplot(1,2,2)\n",
        "plt.pie(gender,autopct=lambda p : '{:.2f}%'.format(p))\n",
        "plt.legend(gender.index)\n",
        "\n",
        "plt.show()"
      ]
    },
    {
      "cell_type": "markdown",
      "id": "0abbe36d-1e0d-42bb-921f-89eef49d695f",
      "metadata": {
        "id": "0abbe36d-1e0d-42bb-921f-89eef49d695f"
      },
      "source": [
        "- female이 male보다 높은 비율을 차지한다"
      ]
    },
    {
      "cell_type": "code",
      "execution_count": null,
      "id": "98ca7eea-9ca4-4b23-95c5-de598a3a4ab8",
      "metadata": {
        "id": "98ca7eea-9ca4-4b23-95c5-de598a3a4ab8",
        "outputId": "9053384b-f13e-4552-c5c6-8bd4eeaad34a"
      },
      "outputs": [
        {
          "data": {
            "text/plain": [
              "Asian    2700\n",
              "Name: race, dtype: int64"
            ]
          },
          "execution_count": 115,
          "metadata": {},
          "output_type": "execute_result"
        }
      ],
      "source": [
        "trainset['race'].value_counts()"
      ]
    },
    {
      "cell_type": "markdown",
      "id": "09bb85b6-599f-4231-83dc-43eb38c1eebc",
      "metadata": {
        "id": "09bb85b6-599f-4231-83dc-43eb38c1eebc"
      },
      "source": [
        "- 인종은 Asian 밖에 없다. 다양했으면 어렵지만 재밌지 않았을까"
      ]
    },
    {
      "cell_type": "code",
      "execution_count": null,
      "id": "356cb750-2f79-4869-bbea-874f3e0fd9df",
      "metadata": {
        "id": "356cb750-2f79-4869-bbea-874f3e0fd9df",
        "outputId": "7f62f150-0095-4894-e221-506f283e502e"
      },
      "outputs": [
        {
          "data": {
            "image/png": "[encoded data removed]",
            "text/plain": [
              "<Figure size 864x432 with 2 Axes>"
            ]
          },
          "metadata": {},
          "output_type": "display_data"
        }
      ],
      "source": [
        "#### 60세 이상<--그대로 60세만 포함\n",
        "\n",
        "trainset.loc[(trainset.age < 30),  'age_group'] = '<30'\n",
        "trainset.loc[(trainset.age >= 30),  'age_group'] = '>=30 and <60'\n",
        "trainset.loc[(trainset.age >= 60),  'age_group'] = '>=60'\n",
        "\n",
        "age_group = trainset['age_group'].value_counts()\n",
        "\n",
        "plt.figure(figsize=(12,6))\n",
        "\n",
        "plt.subplot(1,2,1)\n",
        "plt.pie(age_group,autopct=lambda p : '{:.2f}%'.format(p))\n",
        "plt.legend(age_group.index)\n",
        "plt.title('only 60')\n",
        "\n",
        "#### 60세 이상<---58-59세도 포함해서 확인\n",
        "\n",
        "trainset.loc[(trainset.age < 30),  'age_group'] = '<30'\n",
        "trainset.loc[(trainset.age >= 30),  'age_group'] = '>=30 and <58'\n",
        "trainset.loc[(trainset.age >= 58),  'age_group'] = '>=58'\n",
        "\n",
        "age_group = trainset['age_group'].value_counts()\n",
        "\n",
        "plt.subplot(1,2,2)\n",
        "plt.pie(age_group,autopct=lambda p : '{:.2f}%'.format(p))\n",
        "plt.legend(age_group.index)\n",
        "plt.title('include 58-59')\n",
        "plt.show()"
      ]
    },
    {
      "cell_type": "markdown",
      "id": "2bbc24c9-3d41-4588-94fd-65f97af9c49d",
      "metadata": {
        "id": "2bbc24c9-3d41-4588-94fd-65f97af9c49d"
      },
      "source": [
        "60대 이상 그룹에 58-59세도 포함시키면 불균형이 조금 개선된다."
      ]
    },
    {
      "cell_type": "code",
      "execution_count": null,
      "id": "98fccf71-cf31-44d9-a16a-178f37c1c89e",
      "metadata": {
        "id": "98fccf71-cf31-44d9-a16a-178f37c1c89e",
        "outputId": "69a6febf-7d98-4c75-a710-b14469aaf420"
      },
      "outputs": [
        {
          "data": {
            "text/plain": [
              "gender  age_group   \n",
              "female  <30             732\n",
              "        >=30 and <58    669\n",
              "        >=58            257\n",
              "male    <30             549\n",
              "        >=30 and <58    314\n",
              "        >=58            179\n",
              "Name: age_group, dtype: int64"
            ]
          },
          "execution_count": 276,
          "metadata": {},
          "output_type": "execute_result"
        }
      ],
      "source": [
        "group = trainset.groupby('gender')['age_group'].value_counts().sort_index()\n",
        "group"
      ]
    },
    {
      "cell_type": "code",
      "execution_count": null,
      "id": "86b06427-8d21-438b-95c9-983718b4c68b",
      "metadata": {
        "id": "86b06427-8d21-438b-95c9-983718b4c68b",
        "outputId": "4e8b3e23-8b9d-47e3-8a16-f196caaf104c"
      },
      "outputs": [
        {
          "data": {
            "image/png": "[encoded data removed]",
            "text/plain": [
              "<Figure size 864x360 with 2 Axes>"
            ]
          },
          "metadata": {
            "needs_background": "light"
          },
          "output_type": "display_data"
        }
      ],
      "source": [
        "plt.figure(figsize=(12,5))\n",
        "\n",
        "plt.subplot(1,2,1)\n",
        "plt.bar(group['male'].index,group['male'],color='royalblue',label='male',width=0.7)\n",
        "plt.bar(group['female'].index,group['female'],color='tomato',bottom=group['male'],label='female',width=0.7)\n",
        "\n",
        "plt.legend()\n",
        "\n",
        "plt.subplot(1,2,2)\n",
        "idx = np.arange(len(group['male'].index)) #0~그룹 개수-1\n",
        "width=0.35 #막대 두께 설정\n",
        "\n",
        "plt.bar(idx-width/2, group['male'], color='royalblue', width=width, label='male') \n",
        "plt.bar(idx+width/2, group['female'], color='tomato', width=width, label='female')\n",
        "\n",
        "plt.xticks(idx,labels=group['male'].index)\n",
        "\n",
        "plt.legend()\n",
        "plt.show()"
      ]
    },
    {
      "cell_type": "markdown",
      "id": "5c9ccff9-cd8e-4266-b177-ede7480f87b1",
      "metadata": {
        "id": "5c9ccff9-cd8e-4266-b177-ede7480f87b1"
      },
      "source": [
        "- 연령 group별로 성별을 표시했을 때, \n",
        "    - 모든 연령 그룹에서 female 수가 더 많다"
      ]
    },
    {
      "cell_type": "code",
      "execution_count": null,
      "id": "b72074fe-fc7a-42e0-ace0-ba638ad93e76",
      "metadata": {
        "id": "b72074fe-fc7a-42e0-ace0-ba638ad93e76",
        "outputId": "ba7c8936-5870-430c-d1df-363bb1228e22"
      },
      "outputs": [
        {
          "data": {
            "text/plain": [
              "array([18, 19, 20, 21, 22, 23, 24, 25, 26, 27, 28, 29, 30, 31, 32, 33, 34,\n",
              "       35, 36, 37, 38, 39, 40, 41, 42, 43, 44, 45, 46, 47, 48, 49, 50, 51,\n",
              "       52, 53, 54, 55, 56, 57, 58, 59, 60])"
            ]
          },
          "execution_count": 247,
          "metadata": {},
          "output_type": "execute_result"
        }
      ],
      "source": [
        "np.sort(trainset.age.unique())"
      ]
    },
    {
      "cell_type": "code",
      "execution_count": null,
      "id": "fba8c127-a435-427d-9c4d-188562a9d1c2",
      "metadata": {
        "id": "fba8c127-a435-427d-9c4d-188562a9d1c2",
        "outputId": "4e957d8d-15d4-48e0-c014-2480d5763455"
      },
      "outputs": [
        {
          "data": {
            "image/png": "[encoded data removed]",
            "text/plain": [
              "<Figure size 1080x504 with 1 Axes>"
            ]
          },
          "metadata": {
            "needs_background": "light"
          },
          "output_type": "display_data"
        }
      ],
      "source": [
        "# Age\n",
        "ages = trainset['age'].value_counts().sort_index()\n",
        "\n",
        "plt.figure(figsize=(15,7))\n",
        "plt.bar(ages.loc[:30].index,ages.loc[:30],color='royalblue',label='<30')\n",
        "plt.bar(ages.loc[30:58].index,ages.loc[30:58],color='gold',label='>=30 and <58')\n",
        "plt.bar(ages.loc[58:].index,ages.loc[58:],color='tomato',label='>=58')\n",
        "plt.xticks(ages.index)\n",
        "plt.legend()\n",
        "plt.show()"
      ]
    },
    {
      "cell_type": "code",
      "execution_count": null,
      "id": "88c489dd-ffda-4527-9e7d-ac083f4c74b2",
      "metadata": {
        "id": "88c489dd-ffda-4527-9e7d-ac083f4c74b2",
        "outputId": "35e16933-92ff-4cd0-fcf2-3e8d73d04c0b"
      },
      "outputs": [
        {
          "data": {
            "image/png": "[encoded data removed]",
            "text/plain": [
              "<Figure size 1080x504 with 1 Axes>"
            ]
          },
          "metadata": {
            "needs_background": "light"
          },
          "output_type": "display_data"
        }
      ],
      "source": [
        "group = trainset.groupby('gender')['age'].value_counts().sort_index()\n",
        "\n",
        "plt.figure(figsize=(15,7))\n",
        "\n",
        "plt.bar(group['male'].index, group['male'],color='royalblue',label='male')\n",
        "plt.bar(group['female'].index, group['female'],color='tomato',bottom=group['male'],label='female')\n",
        "\n",
        "# plt.bar(ages.loc[:30].index,ages.loc[:30],color='royalblue',label='<30')\n",
        "# plt.bar(ages.loc[30:60].index,ages.loc[30:60],color='gold',label='>=30 and <60')\n",
        "# plt.bar(ages.loc[60:].index,ages.loc[60:],color='tomato',label='>=60')\n",
        "plt.xticks(ages.index)\n",
        "plt.legend()\n",
        "plt.show()"
      ]
    },
    {
      "cell_type": "markdown",
      "id": "0ed03c51-69ad-4385-9116-e90d32aaf1e4",
      "metadata": {
        "id": "0ed03c51-69ad-4385-9116-e90d32aaf1e4"
      },
      "source": [
        "# X & y\n",
        "- 연령/성별에 따른 RGB 통계값 차이가 있는지\n",
        "- 다른 target의 RGB 통계값 차이도 확인하기"
      ]
    },
    {
      "cell_type": "code",
      "execution_count": null,
      "id": "361acc97-b420-4396-bbb5-da7f03633c75",
      "metadata": {
        "id": "361acc97-b420-4396-bbb5-da7f03633c75",
        "outputId": "51bf513a-4d54-4139-8591-e0c437353672"
      },
      "outputs": [
        {
          "data": {
            "text/html": [
              "<div>\n",
              "<style scoped>\n",
              "    .dataframe tbody tr th:only-of-type {\n",
              "        vertical-align: middle;\n",
              "    }\n",
              "\n",
              "    .dataframe tbody tr th {\n",
              "        vertical-align: top;\n",
              "    }\n",
              "\n",
              "    .dataframe thead th {\n",
              "        text-align: right;\n",
              "    }\n",
              "</style>\n",
              "<table border=\"1\" class=\"dataframe\">\n",
              "  <thead>\n",
              "    <tr style=\"text-align: right;\">\n",
              "      <th></th>\n",
              "      <th>id</th>\n",
              "      <th>gender</th>\n",
              "      <th>race</th>\n",
              "      <th>age</th>\n",
              "      <th>path</th>\n",
              "      <th>age_group</th>\n",
              "    </tr>\n",
              "  </thead>\n",
              "  <tbody>\n",
              "    <tr>\n",
              "      <th>0</th>\n",
              "      <td>000001</td>\n",
              "      <td>female</td>\n",
              "      <td>Asian</td>\n",
              "      <td>45</td>\n",
              "      <td>000001_female_Asian_45</td>\n",
              "      <td>&gt;=30 and &lt;60</td>\n",
              "    </tr>\n",
              "    <tr>\n",
              "      <th>1</th>\n",
              "      <td>000002</td>\n",
              "      <td>female</td>\n",
              "      <td>Asian</td>\n",
              "      <td>52</td>\n",
              "      <td>000002_female_Asian_52</td>\n",
              "      <td>&gt;=30 and &lt;60</td>\n",
              "    </tr>\n",
              "    <tr>\n",
              "      <th>2</th>\n",
              "      <td>000004</td>\n",
              "      <td>male</td>\n",
              "      <td>Asian</td>\n",
              "      <td>54</td>\n",
              "      <td>000004_male_Asian_54</td>\n",
              "      <td>&gt;=30 and &lt;60</td>\n",
              "    </tr>\n",
              "    <tr>\n",
              "      <th>3</th>\n",
              "      <td>000005</td>\n",
              "      <td>female</td>\n",
              "      <td>Asian</td>\n",
              "      <td>58</td>\n",
              "      <td>000005_female_Asian_58</td>\n",
              "      <td>&gt;=30 and &lt;60</td>\n",
              "    </tr>\n",
              "    <tr>\n",
              "      <th>4</th>\n",
              "      <td>000006</td>\n",
              "      <td>female</td>\n",
              "      <td>Asian</td>\n",
              "      <td>59</td>\n",
              "      <td>000006_female_Asian_59</td>\n",
              "      <td>&gt;=30 and &lt;60</td>\n",
              "    </tr>\n",
              "  </tbody>\n",
              "</table>\n",
              "</div>"
            ],
            "text/plain": [
              "       id  gender   race  age                    path     age_group\n",
              "0  000001  female  Asian   45  000001_female_Asian_45  >=30 and <60\n",
              "1  000002  female  Asian   52  000002_female_Asian_52  >=30 and <60\n",
              "2  000004    male  Asian   54    000004_male_Asian_54  >=30 and <60\n",
              "3  000005  female  Asian   58  000005_female_Asian_58  >=30 and <60\n",
              "4  000006  female  Asian   59  000006_female_Asian_59  >=30 and <60"
            ]
          },
          "execution_count": 222,
          "metadata": {},
          "output_type": "execute_result"
        }
      ],
      "source": [
        "trainset.head()"
      ]
    },
    {
      "cell_type": "markdown",
      "id": "8c6db8b2-4b76-4454-bb18-2f43cf1af3b3",
      "metadata": {
        "id": "8c6db8b2-4b76-4454-bb18-2f43cf1af3b3"
      },
      "source": [
        "# 더 알아볼 것\n",
        "- 밝기 generalization\n",
        "- 마스크 색상 차이(검은 마스크, 하얀 마스크 등)에 따른 transforms 어떻게 하면 좋을지\n",
        "- RGB 통계값에서 어떤 특징을 보면 좋을지 더 찾아보기"
      ]
    }
  ],
  "metadata": {
    "kernelspec": {
      "display_name": "Python 3",
      "language": "python",
      "name": "python3"
    },
    "language_info": {
      "codemirror_mode": {
        "name": "ipython",
        "version": 3
      },
      "file_extension": ".py",
      "mimetype": "text/x-python",
      "name": "python",
      "nbconvert_exporter": "python",
      "pygments_lexer": "ipython3",
      "version": "3.8.5"
    },
    "toc-autonumbering": true,
    "colab": {
      "name": "EDA.ipynb",
      "provenance": []
    }
  },
  "nbformat": 4,
  "nbformat_minor": 5
}