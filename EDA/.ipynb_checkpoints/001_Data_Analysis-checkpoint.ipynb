{
 "cells": [
  {
   "cell_type": "markdown",
   "id": "cce5aff9-4d4f-47b1-9576-e024261edbfb",
   "metadata": {},
   "source": [
    "## <span style='background-color:blue'>데이터 확인</span>"
   ]
  },
  {
   "cell_type": "code",
   "execution_count": 159,
   "id": "c7c9c9c9-e537-49e1-8851-04a7af70da06",
   "metadata": {},
   "outputs": [],
   "source": [
    "import pandas as pd\n",
    "import matplotlib.pyplot as plt"
   ]
  },
  {
   "cell_type": "code",
   "execution_count": 160,
   "id": "19fe6f48-3a75-4659-a9d8-a9025500402f",
   "metadata": {},
   "outputs": [],
   "source": [
    "mask_image_df = pd.read_csv('../input/data/train/train.csv')"
   ]
  },
  {
   "cell_type": "code",
   "execution_count": 161,
   "id": "f0e4b1eb-b0ea-4cc9-ab9d-83817e3931c5",
   "metadata": {},
   "outputs": [
    {
     "data": {
      "text/html": [
       "<div>\n",
       "<style scoped>\n",
       "    .dataframe tbody tr th:only-of-type {\n",
       "        vertical-align: middle;\n",
       "    }\n",
       "\n",
       "    .dataframe tbody tr th {\n",
       "        vertical-align: top;\n",
       "    }\n",
       "\n",
       "    .dataframe thead th {\n",
       "        text-align: right;\n",
       "    }\n",
       "</style>\n",
       "<table border=\"1\" class=\"dataframe\">\n",
       "  <thead>\n",
       "    <tr style=\"text-align: right;\">\n",
       "      <th></th>\n",
       "      <th>id</th>\n",
       "      <th>gender</th>\n",
       "      <th>race</th>\n",
       "      <th>age</th>\n",
       "      <th>path</th>\n",
       "    </tr>\n",
       "  </thead>\n",
       "  <tbody>\n",
       "    <tr>\n",
       "      <th>2695</th>\n",
       "      <td>006954</td>\n",
       "      <td>male</td>\n",
       "      <td>Asian</td>\n",
       "      <td>19</td>\n",
       "      <td>006954_male_Asian_19</td>\n",
       "    </tr>\n",
       "    <tr>\n",
       "      <th>2696</th>\n",
       "      <td>006955</td>\n",
       "      <td>male</td>\n",
       "      <td>Asian</td>\n",
       "      <td>19</td>\n",
       "      <td>006955_male_Asian_19</td>\n",
       "    </tr>\n",
       "    <tr>\n",
       "      <th>2697</th>\n",
       "      <td>006956</td>\n",
       "      <td>male</td>\n",
       "      <td>Asian</td>\n",
       "      <td>19</td>\n",
       "      <td>006956_male_Asian_19</td>\n",
       "    </tr>\n",
       "    <tr>\n",
       "      <th>2698</th>\n",
       "      <td>006957</td>\n",
       "      <td>male</td>\n",
       "      <td>Asian</td>\n",
       "      <td>20</td>\n",
       "      <td>006957_male_Asian_20</td>\n",
       "    </tr>\n",
       "    <tr>\n",
       "      <th>2699</th>\n",
       "      <td>006959</td>\n",
       "      <td>male</td>\n",
       "      <td>Asian</td>\n",
       "      <td>19</td>\n",
       "      <td>006959_male_Asian_19</td>\n",
       "    </tr>\n",
       "  </tbody>\n",
       "</table>\n",
       "</div>"
      ],
      "text/plain": [
       "          id gender   race  age                  path\n",
       "2695  006954   male  Asian   19  006954_male_Asian_19\n",
       "2696  006955   male  Asian   19  006955_male_Asian_19\n",
       "2697  006956   male  Asian   19  006956_male_Asian_19\n",
       "2698  006957   male  Asian   20  006957_male_Asian_20\n",
       "2699  006959   male  Asian   19  006959_male_Asian_19"
      ]
     },
     "execution_count": 161,
     "metadata": {},
     "output_type": "execute_result"
    }
   ],
   "source": [
    "mask_image_df.tail()"
   ]
  },
  {
   "cell_type": "markdown",
   "id": "4814d19e-12e4-4dad-aca0-e1d45ea74329",
   "metadata": {},
   "source": [
    "## <span style='background-color:blue'>나이 범주별 확인</span>"
   ]
  },
  {
   "cell_type": "code",
   "execution_count": 162,
   "id": "0e3f34c9-1143-435e-91b6-e9c7a11e3993",
   "metadata": {},
   "outputs": [
    {
     "name": "stdout",
     "output_type": "stream",
     "text": [
      "Train Data Age MAX : 60\n",
      "Train Data Age MIN : 18\n"
     ]
    }
   ],
   "source": [
    "# image df 연령 max값 확인\n",
    "print( 'Train Data Age MAX :', mask_image_df['age'].max())\n",
    "print('Train Data Age MIN :', mask_image_df['age'].min())"
   ]
  },
  {
   "cell_type": "code",
   "execution_count": 178,
   "id": "06e66d73-2f96-485c-8c3e-eda004b5c9da",
   "metadata": {},
   "outputs": [],
   "source": [
    "# 데이터 연령 범주 레이블 추가\n",
    "bins = [0, 30, 59, mask_image_df['age'].max()] \n",
    "mask_image_df['age_label'] = pd.cut(mask_image_df['age'], bins, labels=['young','middle','elder'])"
   ]
  },
  {
   "cell_type": "code",
   "execution_count": 179,
   "id": "0b07d122-a3c3-466d-a25a-0fa2aced3a98",
   "metadata": {},
   "outputs": [
    {
     "data": {
      "text/html": [
       "<div>\n",
       "<style scoped>\n",
       "    .dataframe tbody tr th:only-of-type {\n",
       "        vertical-align: middle;\n",
       "    }\n",
       "\n",
       "    .dataframe tbody tr th {\n",
       "        vertical-align: top;\n",
       "    }\n",
       "\n",
       "    .dataframe thead th {\n",
       "        text-align: right;\n",
       "    }\n",
       "</style>\n",
       "<table border=\"1\" class=\"dataframe\">\n",
       "  <thead>\n",
       "    <tr style=\"text-align: right;\">\n",
       "      <th></th>\n",
       "      <th>id</th>\n",
       "      <th>gender</th>\n",
       "      <th>race</th>\n",
       "      <th>age</th>\n",
       "      <th>path</th>\n",
       "      <th>age_label</th>\n",
       "    </tr>\n",
       "  </thead>\n",
       "  <tbody>\n",
       "    <tr>\n",
       "      <th>0</th>\n",
       "      <td>000001</td>\n",
       "      <td>female</td>\n",
       "      <td>Asian</td>\n",
       "      <td>45</td>\n",
       "      <td>000001_female_Asian_45</td>\n",
       "      <td>middle</td>\n",
       "    </tr>\n",
       "    <tr>\n",
       "      <th>1</th>\n",
       "      <td>000002</td>\n",
       "      <td>female</td>\n",
       "      <td>Asian</td>\n",
       "      <td>52</td>\n",
       "      <td>000002_female_Asian_52</td>\n",
       "      <td>middle</td>\n",
       "    </tr>\n",
       "    <tr>\n",
       "      <th>2</th>\n",
       "      <td>000004</td>\n",
       "      <td>male</td>\n",
       "      <td>Asian</td>\n",
       "      <td>54</td>\n",
       "      <td>000004_male_Asian_54</td>\n",
       "      <td>middle</td>\n",
       "    </tr>\n",
       "    <tr>\n",
       "      <th>3</th>\n",
       "      <td>000005</td>\n",
       "      <td>female</td>\n",
       "      <td>Asian</td>\n",
       "      <td>58</td>\n",
       "      <td>000005_female_Asian_58</td>\n",
       "      <td>middle</td>\n",
       "    </tr>\n",
       "    <tr>\n",
       "      <th>4</th>\n",
       "      <td>000006</td>\n",
       "      <td>female</td>\n",
       "      <td>Asian</td>\n",
       "      <td>59</td>\n",
       "      <td>000006_female_Asian_59</td>\n",
       "      <td>middle</td>\n",
       "    </tr>\n",
       "  </tbody>\n",
       "</table>\n",
       "</div>"
      ],
      "text/plain": [
       "       id  gender   race  age                    path age_label\n",
       "0  000001  female  Asian   45  000001_female_Asian_45    middle\n",
       "1  000002  female  Asian   52  000002_female_Asian_52    middle\n",
       "2  000004    male  Asian   54    000004_male_Asian_54    middle\n",
       "3  000005  female  Asian   58  000005_female_Asian_58    middle\n",
       "4  000006  female  Asian   59  000006_female_Asian_59    middle"
      ]
     },
     "execution_count": 179,
     "metadata": {},
     "output_type": "execute_result"
    }
   ],
   "source": [
    "mask_image_df.head() # 데이터 확인"
   ]
  },
  {
   "cell_type": "code",
   "execution_count": 180,
   "id": "7fc6ec96-713a-4841-bb94-15eb549c1f0a",
   "metadata": {},
   "outputs": [
    {
     "data": {
      "text/html": [
       "<style  type=\"text/css\" >\n",
       "#T_8e317dd8_97e6_11ec_9daf_0242ac110002row0_col0{\n",
       "            background-color:  #023858;\n",
       "            color:  #f1f1f1;\n",
       "        }#T_8e317dd8_97e6_11ec_9daf_0242ac110002row1_col0{\n",
       "            background-color:  #034d79;\n",
       "            color:  #f1f1f1;\n",
       "        }#T_8e317dd8_97e6_11ec_9daf_0242ac110002row2_col0{\n",
       "            background-color:  #fff7fb;\n",
       "            color:  #000000;\n",
       "        }</style><table id=\"T_8e317dd8_97e6_11ec_9daf_0242ac110002\" ><thead>    <tr>        <th class=\"blank level0\" ></th>        <th class=\"col_heading level0 col0\" >age_label</th>    </tr></thead><tbody>\n",
       "                <tr>\n",
       "                        <th id=\"T_8e317dd8_97e6_11ec_9daf_0242ac110002level0_row0\" class=\"row_heading level0 row0\" >young</th>\n",
       "                        <td id=\"T_8e317dd8_97e6_11ec_9daf_0242ac110002row0_col0\" class=\"data row0 col0\" >1298</td>\n",
       "            </tr>\n",
       "            <tr>\n",
       "                        <th id=\"T_8e317dd8_97e6_11ec_9daf_0242ac110002level0_row1\" class=\"row_heading level0 row1\" >middle</th>\n",
       "                        <td id=\"T_8e317dd8_97e6_11ec_9daf_0242ac110002row1_col0\" class=\"data row1 col0\" >1210</td>\n",
       "            </tr>\n",
       "            <tr>\n",
       "                        <th id=\"T_8e317dd8_97e6_11ec_9daf_0242ac110002level0_row2\" class=\"row_heading level0 row2\" >elder</th>\n",
       "                        <td id=\"T_8e317dd8_97e6_11ec_9daf_0242ac110002row2_col0\" class=\"data row2 col0\" >192</td>\n",
       "            </tr>\n",
       "    </tbody></table>"
      ],
      "text/plain": [
       "<pandas.io.formats.style.Styler at 0x7f73062f6160>"
      ]
     },
     "execution_count": 180,
     "metadata": {},
     "output_type": "execute_result"
    }
   ],
   "source": [
    "# 연령별 데이터 확인\n",
    "mask_image_df.age_label.value_counts().to_frame().style.background_gradient()"
   ]
  },
  {
   "cell_type": "code",
   "execution_count": 181,
   "id": "cdbfc0a9-fe54-4f4e-84e3-ee6001a91b92",
   "metadata": {},
   "outputs": [
    {
     "data": {
      "text/html": [
       "<div>\n",
       "<style scoped>\n",
       "    .dataframe tbody tr th:only-of-type {\n",
       "        vertical-align: middle;\n",
       "    }\n",
       "\n",
       "    .dataframe tbody tr th {\n",
       "        vertical-align: top;\n",
       "    }\n",
       "\n",
       "    .dataframe thead th {\n",
       "        text-align: right;\n",
       "    }\n",
       "</style>\n",
       "<table border=\"1\" class=\"dataframe\">\n",
       "  <thead>\n",
       "    <tr style=\"text-align: right;\">\n",
       "      <th></th>\n",
       "      <th>id</th>\n",
       "      <th>gender</th>\n",
       "      <th>race</th>\n",
       "      <th>age</th>\n",
       "      <th>path</th>\n",
       "      <th>age_label</th>\n",
       "    </tr>\n",
       "  </thead>\n",
       "  <tbody>\n",
       "    <tr>\n",
       "      <th>2400</th>\n",
       "      <td>006360</td>\n",
       "      <td>female</td>\n",
       "      <td>Asian</td>\n",
       "      <td>18</td>\n",
       "      <td>006360_female_Asian_18</td>\n",
       "      <td>young</td>\n",
       "    </tr>\n",
       "  </tbody>\n",
       "</table>\n",
       "</div>"
      ],
      "text/plain": [
       "          id  gender   race  age                    path age_label\n",
       "2400  006360  female  Asian   18  006360_female_Asian_18     young"
      ]
     },
     "execution_count": 181,
     "metadata": {},
     "output_type": "execute_result"
    }
   ],
   "source": [
    "mask_image_df[mask_image_df.id == '006360']"
   ]
  },
  {
   "cell_type": "code",
   "execution_count": 182,
   "id": "669fbeb6-9842-4953-af4f-a1271678eece",
   "metadata": {},
   "outputs": [
    {
     "data": {
      "text/html": [
       "<style  type=\"text/css\" >\n",
       "#T_90aaee82_97e6_11ec_9daf_0242ac110002row0_col0{\n",
       "            background-color:  #045382;\n",
       "            color:  #f1f1f1;\n",
       "        }#T_90aaee82_97e6_11ec_9daf_0242ac110002row1_col0{\n",
       "            background-color:  #2a88bc;\n",
       "            color:  #000000;\n",
       "        }#T_90aaee82_97e6_11ec_9daf_0242ac110002row2_col0{\n",
       "            background-color:  #023858;\n",
       "            color:  #f1f1f1;\n",
       "        }#T_90aaee82_97e6_11ec_9daf_0242ac110002row3_col0{\n",
       "            background-color:  #8eb3d5;\n",
       "            color:  #000000;\n",
       "        }#T_90aaee82_97e6_11ec_9daf_0242ac110002row4_col0{\n",
       "            background-color:  #faf2f8;\n",
       "            color:  #000000;\n",
       "        }#T_90aaee82_97e6_11ec_9daf_0242ac110002row5_col0{\n",
       "            background-color:  #fff7fb;\n",
       "            color:  #000000;\n",
       "        }</style><table id=\"T_90aaee82_97e6_11ec_9daf_0242ac110002\" ><thead>    <tr>        <th class=\"blank\" ></th>        <th class=\"blank level0\" ></th>        <th class=\"col_heading level0 col0\" >0</th>    </tr>    <tr>        <th class=\"index_name level0\" >age_label</th>        <th class=\"index_name level1\" >gender</th>        <th class=\"blank\" ></th>    </tr></thead><tbody>\n",
       "                <tr>\n",
       "                        <th id=\"T_90aaee82_97e6_11ec_9daf_0242ac110002level0_row0\" class=\"row_heading level0 row0\" rowspan=2>young</th>\n",
       "                        <th id=\"T_90aaee82_97e6_11ec_9daf_0242ac110002level1_row0\" class=\"row_heading level1 row0\" >female</th>\n",
       "                        <td id=\"T_90aaee82_97e6_11ec_9daf_0242ac110002row0_col0\" class=\"data row0 col0\" >739</td>\n",
       "            </tr>\n",
       "            <tr>\n",
       "                                <th id=\"T_90aaee82_97e6_11ec_9daf_0242ac110002level1_row1\" class=\"row_heading level1 row1\" >male</th>\n",
       "                        <td id=\"T_90aaee82_97e6_11ec_9daf_0242ac110002row1_col0\" class=\"data row1 col0\" >559</td>\n",
       "            </tr>\n",
       "            <tr>\n",
       "                        <th id=\"T_90aaee82_97e6_11ec_9daf_0242ac110002level0_row2\" class=\"row_heading level0 row2\" rowspan=2>middle</th>\n",
       "                        <th id=\"T_90aaee82_97e6_11ec_9daf_0242ac110002level1_row2\" class=\"row_heading level1 row2\" >female</th>\n",
       "                        <td id=\"T_90aaee82_97e6_11ec_9daf_0242ac110002row2_col0\" class=\"data row2 col0\" >810</td>\n",
       "            </tr>\n",
       "            <tr>\n",
       "                                <th id=\"T_90aaee82_97e6_11ec_9daf_0242ac110002level1_row3\" class=\"row_heading level1 row3\" >male</th>\n",
       "                        <td id=\"T_90aaee82_97e6_11ec_9daf_0242ac110002row3_col0\" class=\"data row3 col0\" >400</td>\n",
       "            </tr>\n",
       "            <tr>\n",
       "                        <th id=\"T_90aaee82_97e6_11ec_9daf_0242ac110002level0_row4\" class=\"row_heading level0 row4\" rowspan=2>elder</th>\n",
       "                        <th id=\"T_90aaee82_97e6_11ec_9daf_0242ac110002level1_row4\" class=\"row_heading level1 row4\" >female</th>\n",
       "                        <td id=\"T_90aaee82_97e6_11ec_9daf_0242ac110002row4_col0\" class=\"data row4 col0\" >109</td>\n",
       "            </tr>\n",
       "            <tr>\n",
       "                                <th id=\"T_90aaee82_97e6_11ec_9daf_0242ac110002level1_row5\" class=\"row_heading level1 row5\" >male</th>\n",
       "                        <td id=\"T_90aaee82_97e6_11ec_9daf_0242ac110002row5_col0\" class=\"data row5 col0\" >83</td>\n",
       "            </tr>\n",
       "    </tbody></table>"
      ],
      "text/plain": [
       "<pandas.io.formats.style.Styler at 0x7f730661a070>"
      ]
     },
     "execution_count": 182,
     "metadata": {},
     "output_type": "execute_result"
    }
   ],
   "source": [
    "# 연령별 / 나이별 데이터 확인\n",
    "mask_image_df[['age_label','gender']].value_counts().sort_index().to_frame().style.background_gradient()"
   ]
  },
  {
   "cell_type": "code",
   "execution_count": 58,
   "id": "18cae08a-f2d6-466c-b6f3-03dced6742cf",
   "metadata": {},
   "outputs": [
    {
     "data": {
      "text/html": [
       "<style  type=\"text/css\" >\n",
       "#T_0d1769c2_9522_11ec_9daf_0242ac110002row0_col0{\n",
       "            background-color:  #023858;\n",
       "            color:  #f1f1f1;\n",
       "        }#T_0d1769c2_9522_11ec_9daf_0242ac110002row1_col0{\n",
       "            background-color:  #2d8abd;\n",
       "            color:  #000000;\n",
       "        }#T_0d1769c2_9522_11ec_9daf_0242ac110002row2_col0{\n",
       "            background-color:  #056ba7;\n",
       "            color:  #f1f1f1;\n",
       "        }#T_0d1769c2_9522_11ec_9daf_0242ac110002row3_col0{\n",
       "            background-color:  #ebe6f2;\n",
       "            color:  #000000;\n",
       "        }#T_0d1769c2_9522_11ec_9daf_0242ac110002row4_col0{\n",
       "            background-color:  #d8d7e9;\n",
       "            color:  #000000;\n",
       "        }#T_0d1769c2_9522_11ec_9daf_0242ac110002row5_col0{\n",
       "            background-color:  #fff7fb;\n",
       "            color:  #000000;\n",
       "        }</style><table id=\"T_0d1769c2_9522_11ec_9daf_0242ac110002\" ><thead>    <tr>        <th class=\"blank\" ></th>        <th class=\"blank level0\" ></th>        <th class=\"col_heading level0 col0\" >0</th>    </tr>    <tr>        <th class=\"index_name level0\" >age_label</th>        <th class=\"index_name level1\" >gender</th>        <th class=\"blank\" ></th>    </tr></thead><tbody>\n",
       "                <tr>\n",
       "                        <th id=\"T_0d1769c2_9522_11ec_9daf_0242ac110002level0_row0\" class=\"row_heading level0 row0\" rowspan=2>young</th>\n",
       "                        <th id=\"T_0d1769c2_9522_11ec_9daf_0242ac110002level1_row0\" class=\"row_heading level1 row0\" >female</th>\n",
       "                        <td id=\"T_0d1769c2_9522_11ec_9daf_0242ac110002row0_col0\" class=\"data row0 col0\" >722</td>\n",
       "            </tr>\n",
       "            <tr>\n",
       "                                <th id=\"T_0d1769c2_9522_11ec_9daf_0242ac110002level1_row1\" class=\"row_heading level1 row1\" >male</th>\n",
       "                        <td id=\"T_0d1769c2_9522_11ec_9daf_0242ac110002row1_col0\" class=\"data row1 col0\" >543</td>\n",
       "            </tr>\n",
       "            <tr>\n",
       "                        <th id=\"T_0d1769c2_9522_11ec_9daf_0242ac110002level0_row2\" class=\"row_heading level0 row2\" rowspan=2>middle</th>\n",
       "                        <th id=\"T_0d1769c2_9522_11ec_9daf_0242ac110002level1_row2\" class=\"row_heading level1 row2\" >female</th>\n",
       "                        <td id=\"T_0d1769c2_9522_11ec_9daf_0242ac110002row2_col0\" class=\"data row2 col0\" >610</td>\n",
       "            </tr>\n",
       "            <tr>\n",
       "                                <th id=\"T_0d1769c2_9522_11ec_9daf_0242ac110002level1_row3\" class=\"row_heading level1 row3\" >male</th>\n",
       "                        <td id=\"T_0d1769c2_9522_11ec_9daf_0242ac110002row3_col0\" class=\"data row3 col0\" >283</td>\n",
       "            </tr>\n",
       "            <tr>\n",
       "                        <th id=\"T_0d1769c2_9522_11ec_9daf_0242ac110002level0_row4\" class=\"row_heading level0 row4\" rowspan=2>elder</th>\n",
       "                        <th id=\"T_0d1769c2_9522_11ec_9daf_0242ac110002level1_row4\" class=\"row_heading level1 row4\" >female</th>\n",
       "                        <td id=\"T_0d1769c2_9522_11ec_9daf_0242ac110002row4_col0\" class=\"data row4 col0\" >326</td>\n",
       "            </tr>\n",
       "            <tr>\n",
       "                                <th id=\"T_0d1769c2_9522_11ec_9daf_0242ac110002level1_row5\" class=\"row_heading level1 row5\" >male</th>\n",
       "                        <td id=\"T_0d1769c2_9522_11ec_9daf_0242ac110002row5_col0\" class=\"data row5 col0\" >216</td>\n",
       "            </tr>\n",
       "    </tbody></table>"
      ],
      "text/plain": [
       "<pandas.io.formats.style.Styler at 0x7f7308181b80>"
      ]
     },
     "execution_count": 58,
     "metadata": {},
     "output_type": "execute_result"
    }
   ],
   "source": [
    "# 연령별 / 나이별 데이터 확인\n",
    "mask_image_df[['age_label','gender']].value_counts().sort_index().to_frame().style.background_gradient()"
   ]
  },
  {
   "cell_type": "markdown",
   "id": "233cd1e1-6acb-447e-b48e-0e4c75f7b5be",
   "metadata": {},
   "source": [
    "## <span style=\"color:yellow\">문제점 / 생각해 봐야 할 점</span>\n",
    "1. 마스크 안 쓴거랑 쓴거랑 데이터 양 차이 약 5배 -> 마스크 잘못 쓴거 오차값 많이 날듯 \n",
    "    - 데이터를 반으로 줄이면 ?? 잘 못 쓴거 하나, 잘 쓴 마스크 2개 , 맨 얼굴 하나\n",
    "    - 아니면 incorrect 랑 normal을 불리거나 -> 이게 좀더 번거롭지 않나??\n",
    "    <br><br>\n",
    "2. train set 에 60살 이상 없음 -> 노인 판별시 오차 많이 생길듯\n",
    "    - validation set 만들기 조금 위험한듯.\n",
    "    - 데이터 불리기 -> 그냥 합성\n",
    "    - 60살만으로 이 이상 나이를 정확히 판별할수는 있나?? 너무 제한값에 근접하다.\n",
    "    <br><br>\n",
    "3. 중간 나이대 남성 여성 데이터 셋 약 2배 차이 \n",
    "    - 이것도 남성만 데이터 합성 해야 할듯\n",
    "    <br><br>\n",
    "4. 얼굴색 --> 비율 확인 안됨\n",
    "    - 밝기 조절을 하든 rgb2gray로 하든..?\n",
    "    - 다 회색으로 바꿔서 하면 좀더 성능 좋아지지 않으려나??"
   ]
  },
  {
   "cell_type": "markdown",
   "id": "dc0154fe-a44f-49a6-93dc-20bc94627eb1",
   "metadata": {},
   "source": [
    "## <span style='background-color:blue'> 이미지 블렌딩 </span>\n"
   ]
  },
  {
   "cell_type": "markdown",
   "id": "dcc45b00-930a-4b4c-b46c-5564202db1ab",
   "metadata": {},
   "source": [
    "#### - 이미지 블렌딩 OpenCV <span style=\"color:red\">실패!</span>"
   ]
  },
  {
   "cell_type": "code",
   "execution_count": null,
   "id": "dde84184-3036-48dd-a6a4-f7f7e2981a86",
   "metadata": {},
   "outputs": [],
   "source": [
    "import cv2"
   ]
  },
  {
   "cell_type": "code",
   "execution_count": 11,
   "id": "d3c964b5-dd80-467d-95fe-3f7977b5c9d1",
   "metadata": {},
   "outputs": [],
   "source": [
    "base_dir ='../input/data/train/images/000001_female_Asian_45/'"
   ]
  },
  {
   "cell_type": "code",
   "execution_count": null,
   "id": "87dd1b45-071b-4369-8240-b387f4c9c172",
   "metadata": {},
   "outputs": [],
   "source": [
    "def add_image(imgfile1, imgfile2):\n",
    "    img1 = cv2.imread(base_dir + imgfile1)\n",
    "    img2 = cv2.imread(base_dir +imgfile2)\n",
    "    add_img = cv2.add(img1, img2)\n",
    "    #print(add_img)\n",
    "    return\n",
    "    #cv2.imshow('image',add_img)\n",
    "    #cv2.waitKey(2)\n",
    "    #cv2.destroyAllWindows()"
   ]
  },
  {
   "cell_type": "code",
   "execution_count": null,
   "id": "497d74ba-e112-46b1-9b6c-5b60e877590a",
   "metadata": {},
   "outputs": [],
   "source": [
    "add_image('mask1.jpg','mask2.jpg')"
   ]
  },
  {
   "cell_type": "markdown",
   "id": "784b18a6-eae4-4c34-b7c1-5cc53713447b",
   "metadata": {},
   "source": [
    "#### - 이미지 블렌딩 Image"
   ]
  },
  {
   "cell_type": "code",
   "execution_count": null,
   "id": "24b9df6e-743f-440d-9e78-155854ea1b72",
   "metadata": {},
   "outputs": [],
   "source": [
    "from PIL import Image"
   ]
  },
  {
   "cell_type": "code",
   "execution_count": 9,
   "id": "feaf7563-844b-4e50-82e7-7a450ecf0122",
   "metadata": {},
   "outputs": [],
   "source": [
    "from PIL import Image"
   ]
  },
  {
   "cell_type": "code",
   "execution_count": 13,
   "id": "0dc84e2d-ab36-4f14-9c3f-252b5fa3c8d0",
   "metadata": {},
   "outputs": [],
   "source": [
    "img1 = Image.open(base_dir + 'mask1.jpg')\n",
    "img2 = Image.open(base_dir +'mask2.jpg')"
   ]
  },
  {
   "cell_type": "code",
   "execution_count": 14,
   "id": "813e0923-2623-4c51-af2a-07e4410fcfc6",
   "metadata": {},
   "outputs": [],
   "source": [
    "img3 = Image.blend(img1,img2,0.5)"
   ]
  },
  {
   "cell_type": "markdown",
   "id": "97653d0d-911c-45e8-a6ac-e5d092173d45",
   "metadata": {},
   "source": [
    "### <span style ='background-color:purple'>내일 할 일</span>\n",
    "1. 팀원분들께 조언 구하기\n",
    "2. dataset 추가 만들기\n",
    "3. torchvision.compose 구성하기 대략\n",
    "4. model 후보군 찾아보기 3개??\n",
    "5. loss function 찾아보기"
   ]
  },
  {
   "cell_type": "markdown",
   "id": "64de311c-ffe9-44cb-b760-116a534605ca",
   "metadata": {},
   "source": [
    "# Image 생성 코드 플로우\n",
    "1. 데이터 생성 위한 그룹 데이터 프레임 만들기\n",
    "2. 데이터 프레임 주소별로 데이터 만들기 ==> 그룹 레이블로 폴더 따로 만들어서 생성\n",
    "    - bins = [0, 28, 56, mask_image_df['age'].max()]  max =60\n",
    "    - 몇개씩 train 할 것인가 =? 320 최대한 적게 생성할거임\n",
    "    - middle m ==> 40개 incorrect, normal\n",
    "    - elder m ==> 100개 incorrect, noraml\n",
    "3. 이미지 저장!"
   ]
  },
  {
   "cell_type": "code",
   "execution_count": 137,
   "id": "964eae7c-a954-4ea4-9821-20d2f524118b",
   "metadata": {},
   "outputs": [
    {
     "data": {
      "text/plain": [
       "2700"
      ]
     },
     "execution_count": 137,
     "metadata": {},
     "output_type": "execute_result"
    }
   ],
   "source": [
    "len(mask_image_df)"
   ]
  },
  {
   "cell_type": "code",
   "execution_count": 120,
   "id": "24f08aa0-7944-49e2-b33f-e96979690be6",
   "metadata": {},
   "outputs": [
    {
     "data": {
      "text/html": [
       "<div>\n",
       "<style scoped>\n",
       "    .dataframe tbody tr th:only-of-type {\n",
       "        vertical-align: middle;\n",
       "    }\n",
       "\n",
       "    .dataframe tbody tr th {\n",
       "        vertical-align: top;\n",
       "    }\n",
       "\n",
       "    .dataframe thead th {\n",
       "        text-align: right;\n",
       "    }\n",
       "</style>\n",
       "<table border=\"1\" class=\"dataframe\">\n",
       "  <thead>\n",
       "    <tr style=\"text-align: right;\">\n",
       "      <th></th>\n",
       "      <th>id</th>\n",
       "      <th>gender</th>\n",
       "      <th>race</th>\n",
       "      <th>age</th>\n",
       "      <th>path</th>\n",
       "      <th>age_label</th>\n",
       "    </tr>\n",
       "  </thead>\n",
       "  <tbody>\n",
       "    <tr>\n",
       "      <th>0</th>\n",
       "      <td>000001</td>\n",
       "      <td>female</td>\n",
       "      <td>Asian</td>\n",
       "      <td>45</td>\n",
       "      <td>000001_female_Asian_45</td>\n",
       "      <td>middle</td>\n",
       "    </tr>\n",
       "    <tr>\n",
       "      <th>1</th>\n",
       "      <td>000002</td>\n",
       "      <td>female</td>\n",
       "      <td>Asian</td>\n",
       "      <td>52</td>\n",
       "      <td>000002_female_Asian_52</td>\n",
       "      <td>middle</td>\n",
       "    </tr>\n",
       "    <tr>\n",
       "      <th>2</th>\n",
       "      <td>000004</td>\n",
       "      <td>male</td>\n",
       "      <td>Asian</td>\n",
       "      <td>54</td>\n",
       "      <td>000004_male_Asian_54</td>\n",
       "      <td>middle</td>\n",
       "    </tr>\n",
       "    <tr>\n",
       "      <th>3</th>\n",
       "      <td>000005</td>\n",
       "      <td>female</td>\n",
       "      <td>Asian</td>\n",
       "      <td>58</td>\n",
       "      <td>000005_female_Asian_58</td>\n",
       "      <td>elder</td>\n",
       "    </tr>\n",
       "    <tr>\n",
       "      <th>4</th>\n",
       "      <td>000006</td>\n",
       "      <td>female</td>\n",
       "      <td>Asian</td>\n",
       "      <td>59</td>\n",
       "      <td>000006_female_Asian_59</td>\n",
       "      <td>elder</td>\n",
       "    </tr>\n",
       "  </tbody>\n",
       "</table>\n",
       "</div>"
      ],
      "text/plain": [
       "       id  gender   race  age                    path age_label\n",
       "0  000001  female  Asian   45  000001_female_Asian_45    middle\n",
       "1  000002  female  Asian   52  000002_female_Asian_52    middle\n",
       "2  000004    male  Asian   54    000004_male_Asian_54    middle\n",
       "3  000005  female  Asian   58  000005_female_Asian_58     elder\n",
       "4  000006  female  Asian   59  000006_female_Asian_59     elder"
      ]
     },
     "execution_count": 120,
     "metadata": {},
     "output_type": "execute_result"
    }
   ],
   "source": [
    "mask_image_df.head()"
   ]
  },
  {
   "cell_type": "code",
   "execution_count": null,
   "id": "e0a5f5df-0f4f-401f-8399-a70b5017c290",
   "metadata": {},
   "outputs": [],
   "source": [
    "for a in mask_image_df:\n",
    "    if a.gender=='female': gender_label"
   ]
  },
  {
   "cell_type": "code",
   "execution_count": null,
   "id": "83db27ef-e8ac-4d24-a37a-b92e41aca8e7",
   "metadata": {},
   "outputs": [],
   "source": [
    "mask*6  gender_label * 3 + age_label"
   ]
  },
  {
   "cell_type": "code",
   "execution_count": null,
   "id": "de728604-895e-45de-8233-c0e5f37dba89",
   "metadata": {},
   "outputs": [],
   "source": []
  },
  {
   "cell_type": "code",
   "execution_count": 117,
   "id": "c8624dfd-778f-44bf-9fc7-249f83f59d21",
   "metadata": {},
   "outputs": [],
   "source": [
    "# 중간연령 남성 데이터 리스트\n",
    "mask1 = (mask_image_df.age_label =='middle') & (mask_image_df.gender=='male')\n",
    "middle_male = mask_image_df.loc[mask1 ,:].path\n",
    "middle_male.describe()\n",
    "middle_male = list(middle_male)"
   ]
  },
  {
   "cell_type": "code",
   "execution_count": 84,
   "id": "36c58c47-2291-4164-aaf6-983857791b48",
   "metadata": {},
   "outputs": [],
   "source": [
    "# 상위연령 남성 데이터 리스트\n",
    "mask2 = (mask_image_df.age_label =='elder') & (mask_image_df.gender=='male')\n",
    "elder_male = mask_image_df.loc[mask2 ,:].path\n",
    "elder_male.describe()\n",
    "elder_male=list(elder_male)"
   ]
  },
  {
   "cell_type": "code",
   "execution_count": 89,
   "id": "8177c847-dbe5-4271-8840-bca6cc662392",
   "metadata": {},
   "outputs": [],
   "source": [
    "from PIL import Image\n",
    "import random"
   ]
  },
  {
   "cell_type": "code",
   "execution_count": 90,
   "id": "2fe21d82-ab92-40b2-87fe-aae30e97896e",
   "metadata": {},
   "outputs": [],
   "source": [
    "# 이미지 호출 경로, 저장 경로 선언\n",
    "base_dir ='../input/data/train/images/'\n",
    "save_dir ='../input/data/train/image_blend/'"
   ]
  },
  {
   "cell_type": "code",
   "execution_count": 119,
   "id": "3e8272c4-3eab-423b-961f-40cb0f50a913",
   "metadata": {},
   "outputs": [],
   "source": [
    "# 함수 선언\n",
    "# 올바르지 않은 마스크 착용 블렌드\n",
    "def make_image_incorrect(data1_dir, data2_dir,age_gender,i) :  \n",
    "    img = Image.blend( Image.open(base_dir + data1_dir +'/incorrect_mask.jpg') ,Image.open(base_dir + data2_dir + '/incorrect_mask.jpg') , 0.5 )\n",
    "    img.save(save_dir + age_gender +'/incorrect/incorrect_' + str(i) +'.jpg')\n",
    "    return\n",
    "\n",
    "# 맨얼굴 이미지 블렌드\n",
    "def make_image_normal(data1_dir, data2_dir, age_gender ,i) :   \n",
    "    img = Image.blend( Image.open(base_dir + data1_dir + '/normal.jpg') ,Image.open(base_dir + data2_dir +'/normal.jpg') , 0.5 )\n",
    "    img.save(save_dir +age_gender +'/normal/normal_'+ str(i) +'.jpg')\n",
    "    return"
   ]
  },
  {
   "cell_type": "code",
   "execution_count": 113,
   "id": "fa72c5e7-6806-483a-9216-59a4176fac0b",
   "metadata": {},
   "outputs": [],
   "source": [
    "# 상위연령 남성 이미지 블렌드 생성\n",
    "\n",
    "random.shuffle(elder_male)\n",
    "for i in range(100):\n",
    "    make_image_incorrect(elder_male[i], elder_male[210-i],'elder_male', i )\n",
    "    make_image_normal(elder_male[i], elder_male[2*i],'elder_male', i )"
   ]
  },
  {
   "cell_type": "code",
   "execution_count": 118,
   "id": "69b823cf-c436-4d20-82e2-8a4e9598d293",
   "metadata": {},
   "outputs": [],
   "source": [
    "# 중위연령 남성 이미지 블렌드 생성\n",
    "\n",
    "random.shuffle(middle_male)\n",
    "for i in range(50):\n",
    "    make_image_incorrect(middle_male[i], middle_male[60-i],'middle_male', i )\n",
    "    make_image_normal(middle_male[i], middle_male[2*i+1], 'middle_male', i )"
   ]
  },
  {
   "cell_type": "markdown",
   "id": "a3e142ae-95b7-4d87-bba2-6f8df9e31146",
   "metadata": {},
   "source": [
    "# Image 생성 코드 플로우 2!\n",
    "1. 데이터 생성 위한 그룹 데이터 프레임 만들기\n",
    "2. 데이터 프레임 주소별로 데이터 만들기 ==> 그룹 레이블로 폴더 따로 만들어서 생성\n",
    "    - bins = [0, 28, 56, mask_image_df['age'].max()]  max =60\n",
    "    - 몇개씩 train 할 것인가 =? 500 개 정도 최대한 적게 생성할거임\n",
    "    - middle m ==> 300개 incorrect, normal\n",
    "    - elder f ==> 200 개 incorrect, normal\n",
    "    - elder m ==> 300개 incorrect, noraml\n",
    "3. 그리고 데이터프레임 train용 validation set 으로 처음부터 나누고 갈거임"
   ]
  },
  {
   "cell_type": "code",
   "execution_count": 128,
   "id": "7a5afe86-7127-40f9-be3f-577da0a2a45c",
   "metadata": {},
   "outputs": [],
   "source": [
    "from PIL import Image\n",
    "import random\n",
    "# 이미지 호출 경로, 저장 경로 선언\n",
    "base_dir ='../input/data/train/images/'\n",
    "#save_dir ='../input/data/train/image_blend/'"
   ]
  },
  {
   "cell_type": "code",
   "execution_count": 127,
   "id": "d0818d7a-3abc-4d49-9fe5-bc564678990d",
   "metadata": {},
   "outputs": [
    {
     "data": {
      "text/plain": [
       "326"
      ]
     },
     "execution_count": 127,
     "metadata": {},
     "output_type": "execute_result"
    }
   ],
   "source": [
    "# 상위연령 여성 데이터 리스트\n",
    "mask3 = (mask_image_df.age_label =='elder') & (mask_image_df.gender=='female')\n",
    "elder_female = mask_image_df.loc[mask3 ,:].path\n",
    "elder_female = list(elder_female)\n",
    "len(elder_female)"
   ]
  },
  {
   "cell_type": "code",
   "execution_count": 152,
   "id": "2f78ece3-64a2-4984-98b7-53d6701d2fde",
   "metadata": {},
   "outputs": [],
   "source": [
    "# 함수 선언\n",
    "# 올바르지 않은 마스크 착용 블렌드\n",
    "def make_image_incorrect(data1_dir, data2_dir,i) :  \n",
    "    img = Image.blend( Image.open(base_dir + data1_dir +'/incorrect_mask.jpg') ,Image.open(base_dir + data2_dir + '/incorrect_mask.jpg') , 0.5 )\n",
    "    img.save(base_dir + data1_dir + '/incorrect_' + str(i) +'.jpg')\n",
    "    return\n",
    "\n",
    "# 맨얼굴 이미지 블렌드\n",
    "def make_image_normal(data1_dir, data2_dir,i) :   \n",
    "    img = Image.blend( Image.open(base_dir + data1_dir + '/normal.jpg') ,Image.open(base_dir + data2_dir +'/normal.jpg') , 0.5 )\n",
    "    img.save(base_dir + data1_dir + '/normal_' + str(i) +'.jpg')\n",
    "    return"
   ]
  },
  {
   "cell_type": "code",
   "execution_count": 153,
   "id": "bcca487e-981a-4226-a9bd-995234f0c9ab",
   "metadata": {},
   "outputs": [],
   "source": [
    "# 중위연령 남성 이미지 블렌드 생성\n",
    "\n",
    "random.shuffle(middle_male)\n",
    "for i in range(300):\n",
    "    sampleList = random.sample(middle_male, 2 )\n",
    "    make_image_incorrect(sampleList[0], sampleList[1], i )\n",
    "    make_image_normal(sampleList[0], sampleList[1], i )"
   ]
  },
  {
   "cell_type": "code",
   "execution_count": 154,
   "id": "048a70a5-f9ca-47db-8c56-e225c6b8d452",
   "metadata": {},
   "outputs": [],
   "source": [
    "# 중위연령 여성 이미지 블렌드 생성\n",
    "\n",
    "random.shuffle(elder_female)\n",
    "for i in range(200):\n",
    "    sampleList = random.sample(elder_female, 2 )\n",
    "    make_image_incorrect(sampleList[0], sampleList[1], i )\n",
    "    make_image_normal(sampleList[0], sampleList[1], i )"
   ]
  },
  {
   "cell_type": "code",
   "execution_count": 155,
   "id": "41b17d63-9fdf-4bc1-8de8-0fd459e521e8",
   "metadata": {
    "tags": []
   },
   "outputs": [],
   "source": [
    "# 상위연령 남성 이미지 블렌드 생성\n",
    "\n",
    "random.shuffle(elder_male)\n",
    "for i in range(300):\n",
    "    sampleList = random.sample(elder_male, 2 )\n",
    "    make_image_incorrect(sampleList[0], sampleList[1], i )\n",
    "    make_image_normal(sampleList[0], sampleList[1], i )"
   ]
  },
  {
   "cell_type": "markdown",
   "id": "04cfaed3-2bcb-4aaa-b08b-952686da2721",
   "metadata": {},
   "source": [
    "# train dataset 데이테 프레임 뽑기"
   ]
  },
  {
   "cell_type": "code",
   "execution_count": 150,
   "id": "6c4aae04-dc9c-4997-8fa6-14507fdede06",
   "metadata": {},
   "outputs": [
    {
     "data": {
      "text/plain": [
       "2700"
      ]
     },
     "execution_count": 150,
     "metadata": {},
     "output_type": "execute_result"
    }
   ],
   "source": [
    "len(mask_image_df)"
   ]
  },
  {
   "cell_type": "code",
   "execution_count": 138,
   "id": "27c704b7-beb8-4b87-9c8c-3c5445b7572a",
   "metadata": {},
   "outputs": [],
   "source": [
    "# 0.2 의 validation dataset\n",
    "indList = random.sample(range(2700), 540)"
   ]
  },
  {
   "cell_type": "code",
   "execution_count": 141,
   "id": "1702955d-b738-4107-808d-9fdebbc71a4b",
   "metadata": {},
   "outputs": [
    {
     "data": {
      "text/plain": [
       "[1802, 746, 2560, 2225]"
      ]
     },
     "execution_count": 141,
     "metadata": {},
     "output_type": "execute_result"
    }
   ],
   "source": [
    "indList[:4]"
   ]
  },
  {
   "cell_type": "code",
   "execution_count": 142,
   "id": "d283a333-2718-4113-b993-4edf2f0f6d45",
   "metadata": {},
   "outputs": [],
   "source": [
    "validation_set_df = mask_image_df.loc[indList]"
   ]
  },
  {
   "cell_type": "code",
   "execution_count": 147,
   "id": "02c70431-d3cd-4e30-b811-c00b2cc36d87",
   "metadata": {},
   "outputs": [],
   "source": [
    "test_set_df = mask_image_df.drop(mask_image_df.index[indList])"
   ]
  },
  {
   "cell_type": "code",
   "execution_count": 158,
   "id": "5e4b78f5-84f4-4efc-92e1-04f60b96813a",
   "metadata": {},
   "outputs": [],
   "source": [
    "validation_set_df.to_csv('../input/data/train/val_df.csv' , index = False)\n"
   ]
  },
  {
   "cell_type": "code",
   "execution_count": 143,
   "id": "587caaaf-0a4d-40fa-89da-5a6dac2f28ed",
   "metadata": {},
   "outputs": [
    {
     "data": {
      "text/html": [
       "<div>\n",
       "<style scoped>\n",
       "    .dataframe tbody tr th:only-of-type {\n",
       "        vertical-align: middle;\n",
       "    }\n",
       "\n",
       "    .dataframe tbody tr th {\n",
       "        vertical-align: top;\n",
       "    }\n",
       "\n",
       "    .dataframe thead th {\n",
       "        text-align: right;\n",
       "    }\n",
       "</style>\n",
       "<table border=\"1\" class=\"dataframe\">\n",
       "  <thead>\n",
       "    <tr style=\"text-align: right;\">\n",
       "      <th></th>\n",
       "      <th>id</th>\n",
       "      <th>gender</th>\n",
       "      <th>race</th>\n",
       "      <th>age</th>\n",
       "      <th>path</th>\n",
       "      <th>age_label</th>\n",
       "    </tr>\n",
       "  </thead>\n",
       "  <tbody>\n",
       "    <tr>\n",
       "      <th>1802</th>\n",
       "      <td>004262</td>\n",
       "      <td>female</td>\n",
       "      <td>Asian</td>\n",
       "      <td>59</td>\n",
       "      <td>004262_female_Asian_59</td>\n",
       "      <td>elder</td>\n",
       "    </tr>\n",
       "    <tr>\n",
       "      <th>746</th>\n",
       "      <td>001484</td>\n",
       "      <td>male</td>\n",
       "      <td>Asian</td>\n",
       "      <td>57</td>\n",
       "      <td>001484_male_Asian_57</td>\n",
       "      <td>elder</td>\n",
       "    </tr>\n",
       "    <tr>\n",
       "      <th>2560</th>\n",
       "      <td>006582</td>\n",
       "      <td>female</td>\n",
       "      <td>Asian</td>\n",
       "      <td>20</td>\n",
       "      <td>006582_female_Asian_20</td>\n",
       "      <td>young</td>\n",
       "    </tr>\n",
       "    <tr>\n",
       "      <th>2225</th>\n",
       "      <td>005523</td>\n",
       "      <td>male</td>\n",
       "      <td>Asian</td>\n",
       "      <td>52</td>\n",
       "      <td>005523_male_Asian_52</td>\n",
       "      <td>middle</td>\n",
       "    </tr>\n",
       "    <tr>\n",
       "      <th>1113</th>\n",
       "      <td>003052</td>\n",
       "      <td>female</td>\n",
       "      <td>Asian</td>\n",
       "      <td>19</td>\n",
       "      <td>003052_female_Asian_19</td>\n",
       "      <td>young</td>\n",
       "    </tr>\n",
       "  </tbody>\n",
       "</table>\n",
       "</div>"
      ],
      "text/plain": [
       "          id  gender   race  age                    path age_label\n",
       "1802  004262  female  Asian   59  004262_female_Asian_59     elder\n",
       "746   001484    male  Asian   57    001484_male_Asian_57     elder\n",
       "2560  006582  female  Asian   20  006582_female_Asian_20     young\n",
       "2225  005523    male  Asian   52    005523_male_Asian_52    middle\n",
       "1113  003052  female  Asian   19  003052_female_Asian_19     young"
      ]
     },
     "execution_count": 143,
     "metadata": {},
     "output_type": "execute_result"
    }
   ],
   "source": [
    "validation_set_df.head()"
   ]
  },
  {
   "cell_type": "code",
   "execution_count": 144,
   "id": "d1a42484-ed06-4edf-bda7-3d0533ebb5e7",
   "metadata": {},
   "outputs": [
    {
     "data": {
      "text/html": [
       "<style  type=\"text/css\" >\n",
       "#T_a55809bc_9617_11ec_9daf_0242ac110002row0_col0{\n",
       "            background-color:  #023858;\n",
       "            color:  #f1f1f1;\n",
       "        }#T_a55809bc_9617_11ec_9daf_0242ac110002row1_col0{\n",
       "            background-color:  #3f93c2;\n",
       "            color:  #000000;\n",
       "        }#T_a55809bc_9617_11ec_9daf_0242ac110002row2_col0{\n",
       "            background-color:  #045585;\n",
       "            color:  #f1f1f1;\n",
       "        }#T_a55809bc_9617_11ec_9daf_0242ac110002row3_col0{\n",
       "            background-color:  #f0eaf4;\n",
       "            color:  #000000;\n",
       "        }#T_a55809bc_9617_11ec_9daf_0242ac110002row4_col0{\n",
       "            background-color:  #d6d6e9;\n",
       "            color:  #000000;\n",
       "        }#T_a55809bc_9617_11ec_9daf_0242ac110002row5_col0{\n",
       "            background-color:  #fff7fb;\n",
       "            color:  #000000;\n",
       "        }</style><table id=\"T_a55809bc_9617_11ec_9daf_0242ac110002\" ><thead>    <tr>        <th class=\"blank\" ></th>        <th class=\"blank level0\" ></th>        <th class=\"col_heading level0 col0\" >0</th>    </tr>    <tr>        <th class=\"index_name level0\" >age_label</th>        <th class=\"index_name level1\" >gender</th>        <th class=\"blank\" ></th>    </tr></thead><tbody>\n",
       "                <tr>\n",
       "                        <th id=\"T_a55809bc_9617_11ec_9daf_0242ac110002level0_row0\" class=\"row_heading level0 row0\" rowspan=2>young</th>\n",
       "                        <th id=\"T_a55809bc_9617_11ec_9daf_0242ac110002level1_row0\" class=\"row_heading level1 row0\" >female</th>\n",
       "                        <td id=\"T_a55809bc_9617_11ec_9daf_0242ac110002row0_col0\" class=\"data row0 col0\" >144</td>\n",
       "            </tr>\n",
       "            <tr>\n",
       "                                <th id=\"T_a55809bc_9617_11ec_9daf_0242ac110002level1_row1\" class=\"row_heading level1 row1\" >male</th>\n",
       "                        <td id=\"T_a55809bc_9617_11ec_9daf_0242ac110002row1_col0\" class=\"data row1 col0\" >104</td>\n",
       "            </tr>\n",
       "            <tr>\n",
       "                        <th id=\"T_a55809bc_9617_11ec_9daf_0242ac110002level0_row2\" class=\"row_heading level0 row2\" rowspan=2>middle</th>\n",
       "                        <th id=\"T_a55809bc_9617_11ec_9daf_0242ac110002level1_row2\" class=\"row_heading level1 row2\" >female</th>\n",
       "                        <td id=\"T_a55809bc_9617_11ec_9daf_0242ac110002row2_col0\" class=\"data row2 col0\" >133</td>\n",
       "            </tr>\n",
       "            <tr>\n",
       "                                <th id=\"T_a55809bc_9617_11ec_9daf_0242ac110002level1_row3\" class=\"row_heading level1 row3\" >male</th>\n",
       "                        <td id=\"T_a55809bc_9617_11ec_9daf_0242ac110002row3_col0\" class=\"data row3 col0\" >52</td>\n",
       "            </tr>\n",
       "            <tr>\n",
       "                        <th id=\"T_a55809bc_9617_11ec_9daf_0242ac110002level0_row4\" class=\"row_heading level0 row4\" rowspan=2>elder</th>\n",
       "                        <th id=\"T_a55809bc_9617_11ec_9daf_0242ac110002level1_row4\" class=\"row_heading level1 row4\" >female</th>\n",
       "                        <td id=\"T_a55809bc_9617_11ec_9daf_0242ac110002row4_col0\" class=\"data row4 col0\" >65</td>\n",
       "            </tr>\n",
       "            <tr>\n",
       "                                <th id=\"T_a55809bc_9617_11ec_9daf_0242ac110002level1_row5\" class=\"row_heading level1 row5\" >male</th>\n",
       "                        <td id=\"T_a55809bc_9617_11ec_9daf_0242ac110002row5_col0\" class=\"data row5 col0\" >42</td>\n",
       "            </tr>\n",
       "    </tbody></table>"
      ],
      "text/plain": [
       "<pandas.io.formats.style.Styler at 0x7f7307e888b0>"
      ]
     },
     "execution_count": 144,
     "metadata": {},
     "output_type": "execute_result"
    }
   ],
   "source": [
    "validation_set_df[['age_label','gender']].value_counts().sort_index().to_frame().style.background_gradient()"
   ]
  },
  {
   "cell_type": "code",
   "execution_count": 151,
   "id": "97e5672c-5f1d-4814-90cf-f50a74e86030",
   "metadata": {},
   "outputs": [
    {
     "data": {
      "text/html": [
       "<style  type=\"text/css\" >\n",
       "#T_1f43d02c_961c_11ec_9daf_0242ac110002row0_col0{\n",
       "            background-color:  #023858;\n",
       "            color:  #f1f1f1;\n",
       "        }#T_1f43d02c_961c_11ec_9daf_0242ac110002row1_col0{\n",
       "            background-color:  #2a88bc;\n",
       "            color:  #000000;\n",
       "        }#T_1f43d02c_961c_11ec_9daf_0242ac110002row2_col0{\n",
       "            background-color:  #056faf;\n",
       "            color:  #f1f1f1;\n",
       "        }#T_1f43d02c_961c_11ec_9daf_0242ac110002row3_col0{\n",
       "            background-color:  #e8e4f0;\n",
       "            color:  #000000;\n",
       "        }#T_1f43d02c_961c_11ec_9daf_0242ac110002row4_col0{\n",
       "            background-color:  #d8d7e9;\n",
       "            color:  #000000;\n",
       "        }#T_1f43d02c_961c_11ec_9daf_0242ac110002row5_col0{\n",
       "            background-color:  #fff7fb;\n",
       "            color:  #000000;\n",
       "        }</style><table id=\"T_1f43d02c_961c_11ec_9daf_0242ac110002\" ><thead>    <tr>        <th class=\"blank\" ></th>        <th class=\"blank level0\" ></th>        <th class=\"col_heading level0 col0\" >0</th>    </tr>    <tr>        <th class=\"index_name level0\" >age_label</th>        <th class=\"index_name level1\" >gender</th>        <th class=\"blank\" ></th>    </tr></thead><tbody>\n",
       "                <tr>\n",
       "                        <th id=\"T_1f43d02c_961c_11ec_9daf_0242ac110002level0_row0\" class=\"row_heading level0 row0\" rowspan=2>young</th>\n",
       "                        <th id=\"T_1f43d02c_961c_11ec_9daf_0242ac110002level1_row0\" class=\"row_heading level1 row0\" >female</th>\n",
       "                        <td id=\"T_1f43d02c_961c_11ec_9daf_0242ac110002row0_col0\" class=\"data row0 col0\" >578</td>\n",
       "            </tr>\n",
       "            <tr>\n",
       "                                <th id=\"T_1f43d02c_961c_11ec_9daf_0242ac110002level1_row1\" class=\"row_heading level1 row1\" >male</th>\n",
       "                        <td id=\"T_1f43d02c_961c_11ec_9daf_0242ac110002row1_col0\" class=\"data row1 col0\" >439</td>\n",
       "            </tr>\n",
       "            <tr>\n",
       "                        <th id=\"T_1f43d02c_961c_11ec_9daf_0242ac110002level0_row2\" class=\"row_heading level0 row2\" rowspan=2>middle</th>\n",
       "                        <th id=\"T_1f43d02c_961c_11ec_9daf_0242ac110002level1_row2\" class=\"row_heading level1 row2\" >female</th>\n",
       "                        <td id=\"T_1f43d02c_961c_11ec_9daf_0242ac110002row2_col0\" class=\"data row2 col0\" >477</td>\n",
       "            </tr>\n",
       "            <tr>\n",
       "                                <th id=\"T_1f43d02c_961c_11ec_9daf_0242ac110002level1_row3\" class=\"row_heading level1 row3\" >male</th>\n",
       "                        <td id=\"T_1f43d02c_961c_11ec_9daf_0242ac110002row3_col0\" class=\"data row3 col0\" >231</td>\n",
       "            </tr>\n",
       "            <tr>\n",
       "                        <th id=\"T_1f43d02c_961c_11ec_9daf_0242ac110002level0_row4\" class=\"row_heading level0 row4\" rowspan=2>elder</th>\n",
       "                        <th id=\"T_1f43d02c_961c_11ec_9daf_0242ac110002level1_row4\" class=\"row_heading level1 row4\" >female</th>\n",
       "                        <td id=\"T_1f43d02c_961c_11ec_9daf_0242ac110002row4_col0\" class=\"data row4 col0\" >261</td>\n",
       "            </tr>\n",
       "            <tr>\n",
       "                                <th id=\"T_1f43d02c_961c_11ec_9daf_0242ac110002level1_row5\" class=\"row_heading level1 row5\" >male</th>\n",
       "                        <td id=\"T_1f43d02c_961c_11ec_9daf_0242ac110002row5_col0\" class=\"data row5 col0\" >174</td>\n",
       "            </tr>\n",
       "    </tbody></table>"
      ],
      "text/plain": [
       "<pandas.io.formats.style.Styler at 0x7f7306540c70>"
      ]
     },
     "execution_count": 151,
     "metadata": {},
     "output_type": "execute_result"
    }
   ],
   "source": [
    "test_set_df[['age_label','gender']].value_counts().sort_index().to_frame().style.background_gradient()"
   ]
  }
 ],
 "metadata": {
  "kernelspec": {
   "display_name": "Python 3",
   "language": "python",
   "name": "python3"
  },
  "language_info": {
   "codemirror_mode": {
    "name": "ipython",
    "version": 3
   },
   "file_extension": ".py",
   "mimetype": "text/x-python",
   "name": "python",
   "nbconvert_exporter": "python",
   "pygments_lexer": "ipython3",
   "version": "3.8.12"
  }
 },
 "nbformat": 4,
 "nbformat_minor": 5
}
