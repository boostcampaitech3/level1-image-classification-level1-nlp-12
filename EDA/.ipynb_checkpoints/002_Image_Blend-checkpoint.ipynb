{
 "cells": [
  {
   "cell_type": "markdown",
   "id": "f418d71f-09dd-4a11-866e-02a8f48cdc72",
   "metadata": {},
   "source": [
    "# Image 생성 코드 플로우\n",
    "1. 데이터 생성 위한 그룹 데이터 프레임 만들기\n",
    "2. 데이터 프레임 주소별로 데이터 만들기 ==> 그룹 레이블로 폴더 따로 만들어서 생성\n",
    "    - bins = [0, 28, 56, mask_image_df['age'].max()]  max =60\n",
    "    - 몇개씩 train 할 것인가 =? 320 최대한 적게 생성할거임\n",
    "    - middle m ==> 40개 incorrect, normal\n",
    "    - elder m ==> 100개 incorrect, normal\n",
    "3. 이미지 저장!"
   ]
  },
  {
   "cell_type": "code",
   "execution_count": 1,
   "id": "a3c47d84-c990-41e0-b8fa-75f615e6eedf",
   "metadata": {},
   "outputs": [],
   "source": [
    "import pandas as pd\n",
    "import matplotlib.pyplot as plt"
   ]
  },
  {
   "cell_type": "code",
   "execution_count": 3,
   "id": "79f5d1e4-585a-4222-b9b1-39680198a8d4",
   "metadata": {},
   "outputs": [],
   "source": [
    "mask_image_df = pd.read_csv('../../input/data/train/train.csv')"
   ]
  },
  {
   "cell_type": "code",
   "execution_count": 4,
   "id": "afaa2e44-bf60-40ef-a77a-598406bae541",
   "metadata": {},
   "outputs": [
    {
     "data": {
      "text/html": [
       "<div>\n",
       "<style scoped>\n",
       "    .dataframe tbody tr th:only-of-type {\n",
       "        vertical-align: middle;\n",
       "    }\n",
       "\n",
       "    .dataframe tbody tr th {\n",
       "        vertical-align: top;\n",
       "    }\n",
       "\n",
       "    .dataframe thead th {\n",
       "        text-align: right;\n",
       "    }\n",
       "</style>\n",
       "<table border=\"1\" class=\"dataframe\">\n",
       "  <thead>\n",
       "    <tr style=\"text-align: right;\">\n",
       "      <th></th>\n",
       "      <th>id</th>\n",
       "      <th>gender</th>\n",
       "      <th>race</th>\n",
       "      <th>age</th>\n",
       "      <th>path</th>\n",
       "    </tr>\n",
       "  </thead>\n",
       "  <tbody>\n",
       "    <tr>\n",
       "      <th>0</th>\n",
       "      <td>000001</td>\n",
       "      <td>female</td>\n",
       "      <td>Asian</td>\n",
       "      <td>45</td>\n",
       "      <td>000001_female_Asian_45</td>\n",
       "    </tr>\n",
       "    <tr>\n",
       "      <th>1</th>\n",
       "      <td>000002</td>\n",
       "      <td>female</td>\n",
       "      <td>Asian</td>\n",
       "      <td>52</td>\n",
       "      <td>000002_female_Asian_52</td>\n",
       "    </tr>\n",
       "    <tr>\n",
       "      <th>2</th>\n",
       "      <td>000004</td>\n",
       "      <td>male</td>\n",
       "      <td>Asian</td>\n",
       "      <td>54</td>\n",
       "      <td>000004_male_Asian_54</td>\n",
       "    </tr>\n",
       "    <tr>\n",
       "      <th>3</th>\n",
       "      <td>000005</td>\n",
       "      <td>female</td>\n",
       "      <td>Asian</td>\n",
       "      <td>58</td>\n",
       "      <td>000005_female_Asian_58</td>\n",
       "    </tr>\n",
       "    <tr>\n",
       "      <th>4</th>\n",
       "      <td>000006</td>\n",
       "      <td>female</td>\n",
       "      <td>Asian</td>\n",
       "      <td>59</td>\n",
       "      <td>000006_female_Asian_59</td>\n",
       "    </tr>\n",
       "  </tbody>\n",
       "</table>\n",
       "</div>"
      ],
      "text/plain": [
       "       id  gender   race  age                    path\n",
       "0  000001  female  Asian   45  000001_female_Asian_45\n",
       "1  000002  female  Asian   52  000002_female_Asian_52\n",
       "2  000004    male  Asian   54    000004_male_Asian_54\n",
       "3  000005  female  Asian   58  000005_female_Asian_58\n",
       "4  000006  female  Asian   59  000006_female_Asian_59"
      ]
     },
     "execution_count": 4,
     "metadata": {},
     "output_type": "execute_result"
    }
   ],
   "source": [
    "mask_image_df.head()"
   ]
  },
  {
   "cell_type": "code",
   "execution_count": 6,
   "id": "b5f06e92-e717-425e-9cdf-3b4da46f9b8c",
   "metadata": {},
   "outputs": [],
   "source": [
    "# 데이터 연령 범주 레이블 추가\n",
    "bins = [0, 28, 56, mask_image_df['age'].max()] \n",
    "mask_image_df['age_label'] = pd.cut(mask_image_df['age'], bins, labels=['young','middle','elder'])"
   ]
  },
  {
   "cell_type": "code",
   "execution_count": 7,
   "id": "7d95a1d8-3faf-4f5e-bd91-f4df4a254c4c",
   "metadata": {},
   "outputs": [
    {
     "data": {
      "text/html": [
       "<div>\n",
       "<style scoped>\n",
       "    .dataframe tbody tr th:only-of-type {\n",
       "        vertical-align: middle;\n",
       "    }\n",
       "\n",
       "    .dataframe tbody tr th {\n",
       "        vertical-align: top;\n",
       "    }\n",
       "\n",
       "    .dataframe thead th {\n",
       "        text-align: right;\n",
       "    }\n",
       "</style>\n",
       "<table border=\"1\" class=\"dataframe\">\n",
       "  <thead>\n",
       "    <tr style=\"text-align: right;\">\n",
       "      <th></th>\n",
       "      <th>id</th>\n",
       "      <th>gender</th>\n",
       "      <th>race</th>\n",
       "      <th>age</th>\n",
       "      <th>path</th>\n",
       "      <th>age_label</th>\n",
       "    </tr>\n",
       "  </thead>\n",
       "  <tbody>\n",
       "    <tr>\n",
       "      <th>0</th>\n",
       "      <td>000001</td>\n",
       "      <td>female</td>\n",
       "      <td>Asian</td>\n",
       "      <td>45</td>\n",
       "      <td>000001_female_Asian_45</td>\n",
       "      <td>middle</td>\n",
       "    </tr>\n",
       "    <tr>\n",
       "      <th>1</th>\n",
       "      <td>000002</td>\n",
       "      <td>female</td>\n",
       "      <td>Asian</td>\n",
       "      <td>52</td>\n",
       "      <td>000002_female_Asian_52</td>\n",
       "      <td>middle</td>\n",
       "    </tr>\n",
       "    <tr>\n",
       "      <th>2</th>\n",
       "      <td>000004</td>\n",
       "      <td>male</td>\n",
       "      <td>Asian</td>\n",
       "      <td>54</td>\n",
       "      <td>000004_male_Asian_54</td>\n",
       "      <td>middle</td>\n",
       "    </tr>\n",
       "    <tr>\n",
       "      <th>3</th>\n",
       "      <td>000005</td>\n",
       "      <td>female</td>\n",
       "      <td>Asian</td>\n",
       "      <td>58</td>\n",
       "      <td>000005_female_Asian_58</td>\n",
       "      <td>elder</td>\n",
       "    </tr>\n",
       "    <tr>\n",
       "      <th>4</th>\n",
       "      <td>000006</td>\n",
       "      <td>female</td>\n",
       "      <td>Asian</td>\n",
       "      <td>59</td>\n",
       "      <td>000006_female_Asian_59</td>\n",
       "      <td>elder</td>\n",
       "    </tr>\n",
       "  </tbody>\n",
       "</table>\n",
       "</div>"
      ],
      "text/plain": [
       "       id  gender   race  age                    path age_label\n",
       "0  000001  female  Asian   45  000001_female_Asian_45    middle\n",
       "1  000002  female  Asian   52  000002_female_Asian_52    middle\n",
       "2  000004    male  Asian   54    000004_male_Asian_54    middle\n",
       "3  000005  female  Asian   58  000005_female_Asian_58     elder\n",
       "4  000006  female  Asian   59  000006_female_Asian_59     elder"
      ]
     },
     "execution_count": 7,
     "metadata": {},
     "output_type": "execute_result"
    }
   ],
   "source": [
    "mask_image_df.head() # 데이터 확인"
   ]
  },
  {
   "cell_type": "code",
   "execution_count": 8,
   "id": "e2ffb966-40f8-41d2-8898-76612d41bf89",
   "metadata": {},
   "outputs": [],
   "source": [
    "# 중간연령 남성 데이터 리스트\n",
    "mask1 = (mask_image_df.age_label =='middle') & (mask_image_df.gender=='male')\n",
    "middle_male = mask_image_df.loc[mask1 ,:].path\n",
    "middle_male.describe()\n",
    "middle_male = list(middle_male)"
   ]
  },
  {
   "cell_type": "code",
   "execution_count": 9,
   "id": "77739bb4-f4ae-49fa-b951-64ba03350b8d",
   "metadata": {},
   "outputs": [],
   "source": [
    "# 상위연령 남성 데이터 리스트\n",
    "mask2 = (mask_image_df.age_label =='elder') & (mask_image_df.gender=='male')\n",
    "elder_male = mask_image_df.loc[mask2 ,:].path\n",
    "elder_male.describe()\n",
    "elder_male=list(elder_male)"
   ]
  },
  {
   "cell_type": "code",
   "execution_count": 10,
   "id": "f22d641f-86e1-472c-b8ee-08b3f33c6ce4",
   "metadata": {},
   "outputs": [],
   "source": [
    "from PIL import Image\n",
    "import random"
   ]
  },
  {
   "cell_type": "code",
   "execution_count": null,
   "id": "74be63b4-892f-49b5-9e82-b4a9d93ce9c2",
   "metadata": {},
   "outputs": [],
   "source": [
    "# 이미지 호출 경로, 저장 경로 선언\n",
    "base_dir ='../input/data/train/images/'\n",
    "save_dir ='../input/data/train/image_blend/'"
   ]
  },
  {
   "cell_type": "code",
   "execution_count": null,
   "id": "e94a58ae-4a1c-4c99-b373-7c85af55eed5",
   "metadata": {},
   "outputs": [],
   "source": [
    "# 함수 선언\n",
    "# 올바르지 않은 마스크 착용 블렌드\n",
    "def make_image_incorrect(data1_dir, data2_dir,age_gender,i) :  \n",
    "    img = Image.blend( Image.open(base_dir + data1_dir +'/incorrect_mask.jpg') ,Image.open(base_dir + data2_dir + '/incorrect_mask.jpg') , 0.5 )\n",
    "    img.save(save_dir + age_gender +'/incorrect/incorrect_' + str(i) +'.jpg')\n",
    "    return\n",
    "\n",
    "# 맨얼굴 이미지 블렌드\n",
    "def make_image_normal(data1_dir, data2_dir, age_gender ,i) :   \n",
    "    img = Image.blend( Image.open(base_dir + data1_dir + '/normal.jpg') ,Image.open(base_dir + data2_dir +'/normal.jpg') , 0.5 )\n",
    "    img.save(save_dir +age_gender +'/normal/normal_'+ str(i) +'.jpg')\n",
    "    return"
   ]
  },
  {
   "cell_type": "code",
   "execution_count": null,
   "id": "0570538d-abc9-48e1-81bf-80207848860a",
   "metadata": {},
   "outputs": [],
   "source": [
    "# 상위연령 남성 이미지 블렌드 생성\n",
    "\n",
    "random.shuffle(elder_male)\n",
    "for i in range(100):\n",
    "    make_image_incorrect(elder_male[i], elder_male[210-i],'elder_male', i )\n",
    "    make_image_normal(elder_male[i], elder_male[2*i],'elder_male', i )"
   ]
  },
  {
   "cell_type": "code",
   "execution_count": null,
   "id": "d4d3ba0b-2ce1-461f-9564-87a2315088d9",
   "metadata": {},
   "outputs": [],
   "source": [
    "# 중위연령 남성 이미지 블렌드 생성\n",
    "\n",
    "random.shuffle(middle_male)\n",
    "for i in range(50):\n",
    "    make_image_incorrect(middle_male[i], middle_male[60-i],'middle_male', i )\n",
    "    make_image_normal(middle_male[i], middle_male[2*i+1], 'middle_male', i )"
   ]
  }
 ],
 "metadata": {
  "kernelspec": {
   "display_name": "Python 3",
   "language": "python",
   "name": "python3"
  },
  "language_info": {
   "codemirror_mode": {
    "name": "ipython",
    "version": 3
   },
   "file_extension": ".py",
   "mimetype": "text/x-python",
   "name": "python",
   "nbconvert_exporter": "python",
   "pygments_lexer": "ipython3",
   "version": "3.8.12"
  }
 },
 "nbformat": 4,
 "nbformat_minor": 5
}
